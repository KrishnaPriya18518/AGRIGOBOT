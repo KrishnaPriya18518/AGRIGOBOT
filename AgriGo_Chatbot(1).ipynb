{
  "nbformat": 4,
  "nbformat_minor": 0,
  "metadata": {
    "colab": {
      "name": "AgriGo  Chatbot.ipynb",
      "provenance": [],
      "collapsed_sections": []
    },
    "kernelspec": {
      "display_name": "Python 3",
      "name": "python3"
    },
    "language_info": {
      "name": "python"
    }
  },
  "cells": [
    {
      "cell_type": "code",
      "metadata": {
        "colab": {
          "base_uri": "https://localhost:8080/"
        },
        "id": "FoaRo8prKJ07",
        "outputId": "c65a0408-77ab-4d03-fd06-eb9509c268be"
      },
      "source": [
        " pip install nltk"
      ],
      "execution_count": 1,
      "outputs": [
        {
          "output_type": "stream",
          "text": [
            "Requirement already satisfied: nltk in /usr/local/lib/python3.7/dist-packages (3.2.5)\n",
            "Requirement already satisfied: six in /usr/local/lib/python3.7/dist-packages (from nltk) (1.15.0)\n"
          ],
          "name": "stdout"
        }
      ]
    },
    {
      "cell_type": "code",
      "metadata": {
        "colab": {
          "base_uri": "https://localhost:8080/"
        },
        "id": "p_h8pz4tLzE8",
        "outputId": "b4524135-50d6-4bdf-af13-a6791524c106"
      },
      "source": [
        "pip install newspaper3k"
      ],
      "execution_count": 2,
      "outputs": [
        {
          "output_type": "stream",
          "text": [
            "Requirement already satisfied: newspaper3k in /usr/local/lib/python3.7/dist-packages (0.2.8)\n",
            "Requirement already satisfied: PyYAML>=3.11 in /usr/local/lib/python3.7/dist-packages (from newspaper3k) (3.13)\n",
            "Requirement already satisfied: tldextract>=2.0.1 in /usr/local/lib/python3.7/dist-packages (from newspaper3k) (3.1.0)\n",
            "Requirement already satisfied: Pillow>=3.3.0 in /usr/local/lib/python3.7/dist-packages (from newspaper3k) (7.1.2)\n",
            "Requirement already satisfied: tinysegmenter==0.3 in /usr/local/lib/python3.7/dist-packages (from newspaper3k) (0.3)\n",
            "Requirement already satisfied: lxml>=3.6.0 in /usr/local/lib/python3.7/dist-packages (from newspaper3k) (4.2.6)\n",
            "Requirement already satisfied: beautifulsoup4>=4.4.1 in /usr/local/lib/python3.7/dist-packages (from newspaper3k) (4.6.3)\n",
            "Requirement already satisfied: requests>=2.10.0 in /usr/local/lib/python3.7/dist-packages (from newspaper3k) (2.23.0)\n",
            "Requirement already satisfied: feedparser>=5.2.1 in /usr/local/lib/python3.7/dist-packages (from newspaper3k) (6.0.2)\n",
            "Requirement already satisfied: feedfinder2>=0.0.4 in /usr/local/lib/python3.7/dist-packages (from newspaper3k) (0.0.4)\n",
            "Requirement already satisfied: cssselect>=0.9.2 in /usr/local/lib/python3.7/dist-packages (from newspaper3k) (1.1.0)\n",
            "Requirement already satisfied: nltk>=3.2.1 in /usr/local/lib/python3.7/dist-packages (from newspaper3k) (3.2.5)\n",
            "Requirement already satisfied: python-dateutil>=2.5.3 in /usr/local/lib/python3.7/dist-packages (from newspaper3k) (2.8.1)\n",
            "Requirement already satisfied: jieba3k>=0.35.1 in /usr/local/lib/python3.7/dist-packages (from newspaper3k) (0.35.1)\n",
            "Requirement already satisfied: idna in /usr/local/lib/python3.7/dist-packages (from tldextract>=2.0.1->newspaper3k) (2.10)\n",
            "Requirement already satisfied: filelock>=3.0.8 in /usr/local/lib/python3.7/dist-packages (from tldextract>=2.0.1->newspaper3k) (3.0.12)\n",
            "Requirement already satisfied: requests-file>=1.4 in /usr/local/lib/python3.7/dist-packages (from tldextract>=2.0.1->newspaper3k) (1.5.1)\n",
            "Requirement already satisfied: certifi>=2017.4.17 in /usr/local/lib/python3.7/dist-packages (from requests>=2.10.0->newspaper3k) (2020.12.5)\n",
            "Requirement already satisfied: urllib3!=1.25.0,!=1.25.1,<1.26,>=1.21.1 in /usr/local/lib/python3.7/dist-packages (from requests>=2.10.0->newspaper3k) (1.24.3)\n",
            "Requirement already satisfied: chardet<4,>=3.0.2 in /usr/local/lib/python3.7/dist-packages (from requests>=2.10.0->newspaper3k) (3.0.4)\n",
            "Requirement already satisfied: sgmllib3k in /usr/local/lib/python3.7/dist-packages (from feedparser>=5.2.1->newspaper3k) (1.0.0)\n",
            "Requirement already satisfied: six in /usr/local/lib/python3.7/dist-packages (from feedfinder2>=0.0.4->newspaper3k) (1.15.0)\n"
          ],
          "name": "stdout"
        }
      ]
    },
    {
      "cell_type": "markdown",
      "metadata": {
        "id": "_5IYwlK0L-Ny"
      },
      "source": [
        ""
      ]
    },
    {
      "cell_type": "code",
      "metadata": {
        "colab": {
          "base_uri": "https://localhost:8080/"
        },
        "id": "ar9IdNzhXxFN",
        "outputId": "8ab951f3-0b44-4966-e03e-e905e520f7e9"
      },
      "source": [
        "\n",
        "\n",
        "import nltk\n",
        "nltk.download('wordnet')\n",
        "from nltk.stem import WordNetLemmatizer\n",
        "lemmatizer = WordNetLemmatizer()\n",
        "import json\n",
        "import pickle\n",
        "from keras.models import Sequential\n",
        "from keras.layers import Dense, Activation, Dropout\n",
        "from keras.optimizers import SGD\n",
        "import random\n",
        "from newspaper import Article\n",
        "import string\n",
        "from sklearn.feature_extraction.text import CountVectorizer\n",
        "from sklearn.metrics.pairwise import cosine_similarity\n",
        "import numpy as np\n",
        "import warnings\n",
        "warnings.filterwarnings('ignore')\n",
        "words=[]\n",
        "classes = []\n",
        "documents = []\n",
        "ignore_words = ['?', '!']\n",
        "data_file = open('intents.json').read()\n",
        "intents = json.loads(data_file)"
      ],
      "execution_count": 3,
      "outputs": [
        {
          "output_type": "stream",
          "text": [
            "[nltk_data] Downloading package wordnet to /root/nltk_data...\n",
            "[nltk_data]   Package wordnet is already up-to-date!\n"
          ],
          "name": "stdout"
        }
      ]
    },
    {
      "cell_type": "code",
      "metadata": {
        "colab": {
          "base_uri": "https://localhost:8080/"
        },
        "id": "268x02-S6sGq",
        "outputId": "79c010bf-f891-4f7b-dcaf-bdbf57b18330"
      },
      "source": [
        "nltk.download('punkt',quiet=True)"
      ],
      "execution_count": 4,
      "outputs": [
        {
          "output_type": "execute_result",
          "data": {
            "text/plain": [
              "True"
            ]
          },
          "metadata": {
            "tags": []
          },
          "execution_count": 4
        }
      ]
    },
    {
      "cell_type": "code",
      "metadata": {
        "id": "RhATlt24p7ke"
      },
      "source": [
        "#pre processing data\n",
        "for intent in intents['intents']:\n",
        "    for pattern in intent['patterns']:\n",
        "        #tokenize each word\n",
        "        w = nltk.word_tokenize(pattern)\n",
        "        words.extend(w)\n",
        "        #add documents in the corpus\n",
        "        documents.append((w, intent['tag']))\n",
        "        # add to our classes list\n",
        "        if intent['tag'] not in classes:\n",
        "            classes.append(intent['tag'])"
      ],
      "execution_count": 5,
      "outputs": []
    },
    {
      "cell_type": "code",
      "metadata": {
        "colab": {
          "base_uri": "https://localhost:8080/"
        },
        "id": "8-SxgYfSqCEC",
        "outputId": "8392d5e0-02ff-4032-fb83-cbbc24388011"
      },
      "source": [
        "# lemmatize, lower each word and remove duplicates\n",
        "words = [lemmatizer.lemmatize(w.lower()) for w in words if w not in ignore_words]\n",
        "words = sorted(list(set(words)))\n",
        "# sort classes\n",
        "classes = sorted(list(set(classes)))\n",
        "# documents = combination between patterns and intents\n",
        "print (len(documents), \"documents\")\n",
        "# classes = intents\n",
        "print (len(classes), \"classes\", classes)\n",
        "# words = all words, vocabulary\n",
        "print (len(words), \"unique lemmatized words\", words)\n",
        "pickle.dump(words,open('words.pkl','wb'))\n",
        "pickle.dump(classes,open('classes.pkl','wb'))"
      ],
      "execution_count": 6,
      "outputs": [
        {
          "output_type": "stream",
          "text": [
            "67 documents\n",
            "16 classes ['AGRICITEASE', 'Consumer', 'Delivery', 'Farmer', 'Features of Consumers Interface', 'Features of Farmers Interface', 'Features of Representatives Interface', 'Market', 'Representative', 'fine', 'greeting', 'how', 'name', 'options', 'thanks', 'translation']\n",
            "74 unique lemmatized words [\"'s\", ',', 'a', 'about', 'agricitease', 'am', 'any', 'anyone', 'are', 'awesome', 'be', 'can', 'consumer', 'could', 'day', 'deliver', 'deliverd', 'delivered', 'delivey', 'detail', 'do', 'expect', 'explain', 'farmer', 'feature', 'fine', 'focus', 'for', 'good', 'great', 'hello', 'help', 'helpful', 'helping', 'hey', 'hi', 'hola', 'how', 'i', 'in', 'interface', 'is', 'it', 'language', 'long', 'me', 'name', 'of', 'offered', 'ok', 'on', 'provide', 'representative', 'role', 'support', 'take', 'tell', 'thank', 'thanks', 'that', 'the', 'there', 'to', 'translation', 'use', 'what', 'when', 'who', 'whom', 'will', 'work', 'yield', 'you', 'your']\n"
          ],
          "name": "stdout"
        }
      ]
    },
    {
      "cell_type": "code",
      "metadata": {
        "colab": {
          "base_uri": "https://localhost:8080/"
        },
        "id": "fytEkxYmq3dd",
        "outputId": "6904aa7a-d34a-4d92-8188-5858f1ff5aa4"
      },
      "source": [
        "# create our training data\n",
        "training = []\n",
        "# create an empty array for our output\n",
        "output_empty = [0] * len(classes)\n",
        "# training set, bag of words for each sentence\n",
        "for doc in documents:\n",
        "    # initialize our bag of words\n",
        "    bag = []\n",
        "    # list of tokenized words for the pattern\n",
        "    pattern_words = doc[0]\n",
        "    # lemmatize each word - create base word, in attempt to represent related words\n",
        "    pattern_words = [lemmatizer.lemmatize(word.lower()) for word in pattern_words]\n",
        "    # create our bag of words array with 1, if word match found in current pattern\n",
        "    for w in words:\n",
        "        bag.append(1) if w in pattern_words else bag.append(0)\n",
        "    # output is a '0' for each tag and '1' for current tag (for each pattern)\n",
        "    output_row = list(output_empty)\n",
        "    output_row[classes.index(doc[1])] = 1\n",
        "    training.append([bag, output_row])\n",
        "# shuffle our features and turn into np.array\n",
        "random.shuffle(training)\n",
        "training = np.array(training)\n",
        "# create train and test lists. X - patterns, Y - intents\n",
        "train_x = list(training[:,0])\n",
        "train_y = list(training[:,1])\n",
        "print(\"Training data created\")"
      ],
      "execution_count": 7,
      "outputs": [
        {
          "output_type": "stream",
          "text": [
            "Training data created\n"
          ],
          "name": "stdout"
        }
      ]
    },
    {
      "cell_type": "code",
      "metadata": {
        "colab": {
          "base_uri": "https://localhost:8080/"
        },
        "id": "ktOElYC9v-Q1",
        "outputId": "ecaba2f4-43c2-4619-a63b-5e33f3d10ad5"
      },
      "source": [
        "example1 = \"/content/agricitease1.txt\"\n",
        "file1 = open(example1, \"r\")\n",
        "FileContent = file1.read()\n",
        "\n",
        "print(FileContent)"
      ],
      "execution_count": 8,
      "outputs": [
        {
          "output_type": "stream",
          "text": [
            " \"AGRICITEASE\" affinity founding between Farmers and Consumers\n",
            " is an all-inclusive digital platform designed to assist farmers in selling their products The new move will eliminate the need for farmers to sell their products through retailers that will escalate in farmer's profits. Our web application and android app consists of three portals\n",
            "Farmer -- one can upload their details and farm details as well. Farmers will also be advised about the crop productivity based on present crop statistics\n",
            "\n",
            "Consumer -- Can purchase the products at fair price\n",
            "Representative -- The one who works on behalf of unlettered and novice users by uploading their farm details and can earn about 5-10% on each fortunate deal. Empowers employment for jobless.\n",
            "\n",
            "For the feasibility of end user our app even provides language translation.\n",
            "\n",
            "Market - Our Customers are Consumers and Users are Farmers and Representative. \n",
            "We mainly want to Focus on customers who buy the yield in bulk amounts like Restaraunts, Hostels, Catering services etc; \n",
            "\n",
            "Features of Farmers Interface:\n",
            "Farmers can upload their farm details and store them to be displayed for the consumers\n",
            "Farmers can relate with the consumers through video calling to have a better experience and worthy trust\n",
            "Can view the information in their required languages \n",
            "Educating journals regarding seasonal crops and statistics of the profitable crops are provided for next harvest. \n",
            "\n",
            "Features of Representatives Interface\n",
            "Representatives can earn their living by aiding farmers in their\n",
            "Representatives can upload farmers farm details .  \n",
            "\n",
            "Features of Consumers Interface\n",
            "Consumer can have a Video Conference with the farmer for better experience\n",
            "More Information about Farmers is provided for the consumers for their further contact purposes\n",
            "Consumer can view the crops and filter them based on the type and delivery date of the  crop  \n",
            "Consumer can rate the quality of crop and can even given suggestions to the farmer\n",
            "\n",
            "Delivery - The yield will get delilvered in span of 10-15days.\n",
            "\n"
          ],
          "name": "stdout"
        }
      ]
    },
    {
      "cell_type": "code",
      "metadata": {
        "colab": {
          "base_uri": "https://localhost:8080/"
        },
        "id": "LdNhZjCUxsvj",
        "outputId": "11f66e64-b796-43ce-f81e-992a9eeac0ee"
      },
      "source": [
        "text = FileContent\n",
        "agricitease_list = nltk.sent_tokenize(text)\n",
        "print(agricitease_list)"
      ],
      "execution_count": 9,
      "outputs": [
        {
          "output_type": "stream",
          "text": [
            "[' \"AGRICITEASE\" affinity founding between Farmers and Consumers\\n is an all-inclusive digital platform designed to assist farmers in selling their products The new move will eliminate the need for farmers to sell their products through retailers that will escalate in farmer\\'s profits.', 'Our web application and android app consists of three portals\\nFarmer -- one can upload their details and farm details as well.', 'Farmers will also be advised about the crop productivity based on present crop statistics\\n\\nConsumer -- Can purchase the products at fair price\\nRepresentative -- The one who works on behalf of unlettered and novice users by uploading their farm details and can earn about 5-10% on each fortunate deal.', 'Empowers employment for jobless.', 'For the feasibility of end user our app even provides language translation.', 'Market - Our Customers are Consumers and Users are Farmers and Representative.', 'We mainly want to Focus on customers who buy the yield in bulk amounts like Restaraunts, Hostels, Catering services etc; \\n\\nFeatures of Farmers Interface:\\nFarmers can upload their farm details and store them to be displayed for the consumers\\nFarmers can relate with the consumers through video calling to have a better experience and worthy trust\\nCan view the information in their required languages \\nEducating journals regarding seasonal crops and statistics of the profitable crops are provided for next harvest.', 'Features of Representatives Interface\\nRepresentatives can earn their living by aiding farmers in their\\nRepresentatives can upload farmers farm details .', 'Features of Consumers Interface\\nConsumer can have a Video Conference with the farmer for better experience\\nMore Information about Farmers is provided for the consumers for their further contact purposes\\nConsumer can view the crops and filter them based on the type and delivery date of the  crop  \\nConsumer can rate the quality of crop and can even given suggestions to the farmer\\n\\nDelivery - The yield will get delilvered in span of 10-15days.']\n"
          ],
          "name": "stdout"
        }
      ]
    },
    {
      "cell_type": "code",
      "metadata": {
        "colab": {
          "base_uri": "https://localhost:8080/"
        },
        "id": "ekgsRC1pmheI",
        "outputId": "e57c48a1-55dd-4a73-f4ac-0bc64a132616"
      },
      "source": [
        "!pip install fontstyle --upgrade\n",
        "import fontstyle"
      ],
      "execution_count": 10,
      "outputs": [
        {
          "output_type": "stream",
          "text": [
            "Requirement already up-to-date: fontstyle in /usr/local/lib/python3.7/dist-packages (1.0.1.2)\n",
            "Requirement already satisfied, skipping upgrade: setuptools in /usr/local/lib/python3.7/dist-packages (from fontstyle) (56.1.0)\n"
          ],
          "name": "stdout"
        }
      ]
    },
    {
      "cell_type": "code",
      "metadata": {
        "colab": {
          "base_uri": "https://localhost:8080/"
        },
        "id": "hlC-L8w2M5dr",
        "outputId": "65ede76f-bf51-4b52-db4f-bf02fdad92f7"
      },
      "source": [
        "nltk.download('punkt',quiet=True)"
      ],
      "execution_count": 11,
      "outputs": [
        {
          "output_type": "execute_result",
          "data": {
            "text/plain": [
              "True"
            ]
          },
          "metadata": {
            "tags": []
          },
          "execution_count": 11
        }
      ]
    },
    {
      "cell_type": "code",
      "metadata": {
        "id": "YKHOuHdmNAaG"
      },
      "source": [
        "article = Article('https://agritech.tnau.ac.in/agricultural_marketing/agrimark_India.html')\n",
        "article.download()\n",
        "article.parse()\n",
        "article.nlp()\n",
        "agri = article.text"
      ],
      "execution_count": 12,
      "outputs": []
    },
    {
      "cell_type": "code",
      "metadata": {
        "colab": {
          "base_uri": "https://localhost:8080/"
        },
        "id": "USMq11K_NhPa",
        "outputId": "9b67ad4e-ce3d-4f02-f23a-571752f7cffa"
      },
      "source": [
        "print(agri)\n"
      ],
      "execution_count": 13,
      "outputs": [
        {
          "output_type": "stream",
          "text": [
            "Agricultural Marketing in India\n",
            "\n",
            "Agricultural Marketing in Tamilnadu Agricultural Marketing in India India is an agricultural country and one third population depends on the agricultural sector directly or indirectly. Agriculture remains as the main stray of the Indian economy since times immemorial. Indian agriculture contribution to the national gross domestic product (GDP) is about 25 per cent. With food being the crowning need of mankind, much emphasis has been on commercialising agricultural production. For this reason, adequate production and even distribution of food has of late become a high priority global concern. Agricultural marketing is mainly the buying and selling of agricultural products. In earlier days when the village economy was more or less self-sufficient the marketing of agricultural products presented no difficulty as the farmer sold his produce to the consumer on a cash or barter basis. Today's agricultural marketing has to undergo a series of exchanges or transfers from one person to another before it reaches the consumer. There are three marketing functions involved in this, i.e., assembling, preparation for consumption and distribution. Selling on any agricultural produce depends on some couple of factors like the demand of the product at that time, availability of storage etc. The products may be sold directly in the market or it may be stored locally for the time being. Moreover, it may be sold as it is gathered from the field or it may be cleaned, graded and processed by the farmer or the merchant of the village. Sometime processing is done because consumers want it, or sometimes to conserve the quality of that product. The task of distribution system is to match the supply with the existing demand by whole selling and retailing in various points of different markets like primary, secondary or terminal markets.\n",
            "\n",
            "Most of the agricultural products in India are sold by farmers in the private sector to moneylenders (to whom the farmer may be indebted) or to village traders. Products are sold in various ways. For example, it might be sold at a weekly village market in the farmer's village or in a neighboring village. If these outlets are not available, then produce might be sold at irregularly held markets in a nearby village or town, or in the mandi. In India, there are several central government organisations, who are involved in agricultural marketing like, Commission of Agricultural Costs and Prices, Food Corporation of India, Cotton Corporation of India, Jute Corporation of India, etc. There are also specialised marketing bodies for rubber, tea, coffee, tobacco, spices and vegetables.\n",
            "\n",
            "Under the Agricultural Produce (grading and marketing) Act of 1937, more than forty primary commodities are compulsorily graded for export and voluntarily graded for internal consumption. Although the regulation of commodity markets is a function of state government, the directorate of marketing and inspection provides marketing and inspection services and financial aid down to the village level to help set up commodity grading centers in selected markets. As we have a tradition of agricultural production, marketing and allied commercial activities, now it is the time for us to brainstorm and come out with new ideas of value added services. These value added services will give the existing agricultural engine a new dimension. The next logical step could be food-processing which not only could be another revenue generating area but also can provide lots of full-time employment to our youths. With the changing agricultural scenario and global competition, there is a need of exploiting the available resources at maximum level. There was a survey undertaken by the directorate of marketing and inspection in the ministry of agriculture in 1970-71 and 1971-72, of five hundred regulated markets was, with a view to assessing the adequacy and efficiency of the existing regulated markets and highlighting their drawbacks and deficiencies and suggesting measures to develop them. One of the most important drawbacks has been the inadequate financial resources of some of the market committees. During the fourth plan, a central sector scheme was drawn up by the ministry of agriculture to provide a grant at 20 per cent of the cost of development of market, subject to a maximum of Rs. 2 lakhs. The balance will have to be provided by the commercial banks. Another important development in the field of regulated markets is the keen interest taken by the International Development Agency (IDA) in the development of the infrastructure in regulated markets. The IDA is financing the development of infrastructure in 50 markets of Bihar. There are also some good news on the front of irrigation, rural infrastructure, restoring water bodies and water harvesting. Another action initiated to improve the governance of the Small Farmers Agri-business Consortium (SFAC) including the appointment of a banker as the chief executive; necessary additional capital to be provided to SFAC. Source:http://www.domain-b.com/economy/agriculture/20040713_marketing.html Top Agricultural Marketing in Tamilnadu Introduction\n",
            "\n",
            "The Vision of the Department of Agricultural Marketing & Agri Business is to ensure fair price to the farming community who are left behind in the competitive marketing scenario and the mission of achieving this is by enforcing the existing act and rules most effectively and also by devising, implementing new technologies aimed at reducing pre and post harvest losses through appropriate methods and encourage value addition. Green Revolution initiatives achieved self-sufficiency by increasing food grains production. Simultaneously, several initiatives have been taken to promote agricultural marketing in the state. Agricultural Marketing infrastructure plays a pivotal role in fostering and sustaining the tempo of rural economic development. Marketing is as critical to better performance in agriculture as farming itself. Agri Business is a process, which starts with a decision to produce a saleable farm commodity and it involves all the aspects relating to pre and post-harvest operations including grading, value addition, packaging, processing and transportation. These operations add value to farm produce. The Department of Agricultural Marketing, which is functioning since 1977, with the main objective of Regulation of Agricultural Marketing, was renamed in the year 2001 as Department of Agricultural Marketing and Agri. Business in order to focus on other activities like Agri Export, Post Harvest Management, Food Processing, etc. Restructure One Deputy Director of Agriculture (Agri Business) for each district, one Agricultural Officer for every two blocks, one Assistant Agricultural Officer for one block have been posted as per restructuring to regulate Agri Business and encourage entrepreneurs. In 103\n",
            "\n",
            "Uzhavar Sandhais, 51 Agricultural Officers and 52 Deputy Agricultural Officers are posted. After restructuring 239 original posts have been enhanced to 906 posts in Agricultural Marketing and Agri Business Department. The Main Activities Establishment and maintenance of Uzhavar Sandhaigal for the benefit of farmers as well as consumers.\n",
            "\n",
            "To create marketing opportunities for small and marginal farmers in cultivation of fruits, vegetables and flowers by formation of groups which includes production, storing and export.\n",
            "\n",
            "Establishment and maintenance of regulated markets in order to facilitate buying and\n",
            "\n",
            "selling of agricultural produce for the benefit of the farming community.\n",
            "\n",
            "Grading of agricultural produce in the regulated markets and at farm holdings to help the producers to get remunerative price for their produce.\n",
            "\n",
            "To create awareness among the farmers about the benefits of grading, marketing, value addition and processing their produce through regulated markets by taking up training, publicity and propaganda.\n",
            "\n",
            "To set up Agriculture Export Zones for promoting export of agricultural produce by increasing the area under exportable crops, providing necessary post harvest management and other infrastructure required and information on prices prevailing at international markets as an integrated approach through computers.\n",
            "\n",
            "To take up Agmark grading of agricultural, animal husbandry and forestry products for the benefit of the consumers.\n",
            "\n",
            "To set up modern cold storage facilities to enable the farmers to store and sell their produce at favourable price and to help consumers to get quality food products.\n",
            "\n",
            "Food Processing Industries are promoted to minimise wastage of agricultural products,\n",
            "\n",
            "to increase employment opportunities and to enhance foreign exchange. MARKET COMMITTEES\n",
            "\n",
            "At present 21 Market committees are functioning in Tamil Nadu at district Level. Top 1.Regulated Markets There are 277 Regulated Markets, 15 Check Posts, 108 Rural Godowns and 108 grading centres functioning under the Market Committees, Competitive and remunerative prices are ensured for the produce sold by the farmers through closed tender system in the Regulated Markets. Free Grading facilities for agricultural commodities and issuing pledge loan during distress sale are also available in the Regulated Markets. The farmers of states of Maharashtra, Karnataka and Andhra Pradesh, sell their produce only through regulated markets as compulsory marketing is in force. 1 to 2 % of the value of the produce is collected as market fees from the traders who procure the produce from the farmers. The procurement method is simplified in Tamilnadu so as to benefit the farmer. 1% of the value of the produce is collected as market fee from traders. Action is being taken for the construction of own building for Nilgiris Market Committee and 4 regulated markets at Ooty, Kothagiri, Coonur and Gudalur during this year at a cost of Rs. 3.25 crores. Necessary steps will be taken to acquire land for this purpose through District Collector, Nilgiris. 2.Services Rendered in the Regulated Markets Regulated Markets provides facilities such as correct weighment by using electronic weigh bridges and weighing balances, godown facilities, bank facility, immediate payment, daily price information, rest sheds, drinking water facility, cattle sheds, free medical aid to farmers, input shops, phone and fax facilities etc. Under \"AGMARKNET\" centrally sponsored scheme 93 regulated markets have been provided with computer and Internet connectivity for effective price dissemination among farmers through AGMARKNET website. The information on commodity prices prevailing in various markets is made available; the farmers would be able to get better price of their produce by moving their produce to the market which pays higher. During the year 2007-08, 100 Regulated markets were computerized through AGMARKNET. The Market Committee-wise infrastructure facilities provided in the Regulated 3.Notification of produce So far, 42 Agricultural Commodities like cereals, millets, pulses, oilseeds, cotton, turmeric, etc. have been notified. Necessary action is being taken for Uniform notification of agricultural commodities throughout the state during this financial year. 4.Pledge Loan Facilities to Farmers In order to avoid distress sales by the small and marginal farmers in the peak season, Regulated Markets are issuing pledge loan to farmers. Under this scheme, the farmers can store their agricultural produce in the godowns of Regulated Markets for a maximum period of 6 months and take pledge loan of 75% of the total value of the produce upto a maximum of Rs.1,00,000. Likewise Pledge Loan facilities are extended to traders also with the rate of interest specified from time to time. Interest at the rate 9% for traders is charged for pledge loan facilities. During the previous financial year interest rates were reduced from 8% to 5% for the benefit of farmers. 5.Tamil Nadu Farmers Development and Welfare Scheme Under this scheme, the farmers / tenants who sell one metric tone of paddy (or) equivalent value of their agricultural produce through Regulated Markets every year will be enrolled under this scheme and are eligible for a grant of a lumpsum amount up to Rs. 1,00,000, in case of death/ permanent disability occurring due to accident / death due to snake bite. In case the eligible farmer / tenant looses both the hands or either the legs or both the eyes due to accident, is eligible for a grant of Rs.75, 000/-. Incase of losing one hand or one leg or one eye or hip disability due to accident the farmer / tenant is eligible for a grant of Rs.50,000/-. The farmers need not pay any premium for this fund. The Market Committee concerned and the Tamil Nadu State Agricultural Marketing Board will bear the premium amount of Rs.10 per individual per year equally. 6.Agmark Grading Agmark grading is undertaken to protect the consumers from the ill effects of consuming adulterated food commodities and to ensure quality food products. 30 Agmark grading laboratories and 1 Principal Agmark Grading Laboratory are engaged in grading the notified food products like vegetableoils, ghee, butter, honey, wheatflour, besanflour, ground spices, sago, rice, pulses, ragi, jaggery, turmeric, potato etc. During the previous financial year, sophisticated equipments has been purchased for Rs. 25.46 lakhs under Part- II Scheme for State Agmark grading Labs and Agricultural Marketing Centres in order to benefit the packers and consumers. Top 7.Construction of Drying Yards in the Villages Out of 10% of Agricultural commodity wastage, 6% loss is due to not adhering proper post harvest practices. In order to minimise the post harvest losses in grains, the department has taken up construction of drying yards at village level. From the year 1997 under this scheme, 1228 drying yards have been constructed at a total cost of Rs.23.20 crores. During the year 2007- 08 construction of 100 Drying Yards at a cost of Rs. 2.50 crores is under progress. This scheme shall continue during 2008 – 09. Uzhavar Sandhaigal 103 uzhavar Sandhais are functioning in the state in Municipality and Town Panchayat areas for direct selling of fruits and vegetables by farmers to consumers without any hindrance of middlemen. The main object of Uzhavar Sandhai are to ensure farmers to get a better price for their produce and to enable the consumers to get fresh fruits and vegetables at a lesser price than the retail market price. During the year 2007- 08, action is being taken to establish 50 more Uzhavar Sandhais at a cost of Rs. 11.25 crores. Hasthampatti Uzhavar Sandhai in Salem district has been inaugurated on 14.01.2008. As on date 104 Uzhavar Sandhais are functioning .Action is being taken to establish the remaining 49 Uzhavar Sandhais. Cold storage rooms of 2.0 M.T. capacities are to be installed in 22 top performing Uzhavar Sandhais at a cost of Rs.133.10 lakhs.\n",
            "\n",
            "Various measures are taken by this Department to increase the arrivals in Uzhavar Sandhai, increase the number of farmers and for development of Uzhavar Sandhai. Everyday, on an average, 1053 MT of fruits and vegetable worth Rs.108 lakhs are sold benefiting 7800 farmers and 1,97,000 consumers per day. Services to be rendered in the Uzhavar Sandhaigal\n",
            "\n",
            "Additional facilities like electronic weighing scale, Plastic trays, trolleys, wastage bins will be provided for the farmers in the Uzhavar Sandhaigal. Computers for effective communication, new hybrid seeds, seedlings, organic farming methodology, vermicomposting demonstration and post harvest management training to farmers will also be offered to those farmers visiting Uzhavar Sandhai. 25 Uzhavar Sandhais have been supplied with computers. ESTABLISHMENT OF MARKET COMPLEX 1.Establishment of Market Complex for Mango and Onion. For the interest of the small and marginal farmers action is being taken to establish market complex with cold storage facility at Pongalur in Coimbatore District for Onion and at Krishnagiri in Krishnagiri District for Mango at a project cost of Rs. 2 crores each (Total Rs.4 crores). Entrepreneurs have submitted their Expression of Interest and Detailed Project Report. The Projects were evaluated by the evaluation committee and the evaluation report and joint venture agreement with M/S Premium Farm Fresh Produces Limited, New Delhi as a equity partner with Tamilnadu State Agricultural Marketing Board is under consideration. 2.Establishment of Market Complex for Grapes at Odaipatti, Theni District. Cold storage unit at Odaipatti in Theni District will be established at a cost of Rs. 3.75 crores for grapes in order to facilitate grading, packing and export of grapes, so as to benefit the grape growers. The evaluation proposal submitted by M/s. Peninsula Agro Tech India Ltd. of Theni District as a equity partner with Tamilnadu Agricultural Marketing Board is under consideration. Top 3.Establishment of Terminal Markets As per the guidelines of the central Government, three Terminal Markets with all value addition facilities would be established near metro areas of Chennai, Madurai and Coimbatore for processing, storage and marketing of perishables like fruits and vegetables at a total cost ofRs.200 crores. Consultants have been selected to implement the project. M/s Darasha and company private ltd Mumbai, selected as a consultancy agency for implementing the Terminal Market scheme in Tamil Nadu. An Agreement was executed with the consultancy firm on 10.12.07 by Tamilnadu State Agricultural Marketing Board, Chennai to prepare RFQ, RFP and DPR. Global Tender has been floated. Agricultural Production and Marketing Information Centre Market intelligence plays a vital role in marketing agricultural produce. If the information on commodity prices prevailing in various markets is made available, the farmers would be able to get better price to their produce by moving their produce to the market which pays higher. Taking this aspect into consideration, Agricultural Production and Marketing Information Centre has been established in 14 Regulated Markets like Dindugal, Alangudi, Madurai, Thirumangalam, Theni, Sivagangai, Ramanathapuram, Aruppukottai, Virudhunagar, Rajapalayam, Tirunelveli, Tuticorin, Vadaseri and Monday Market at a cost of Rs.45.00 lakhs. These centres were provided with computer and accessories with internet facility and electronic display boards. Agricultural Produce arrival, price details and post harvest management practices in the regulated markets are flashed in the Electronic display boards, for the benefit of farmers. AGRI EXPORT ZONES\n",
            "\n",
            "To promote Agri Horticultural Produce Exports from Tamil Nadu, four Agri Export Zones for specific commodities have been established as detailed below. 1 Agri Export Zone for Cut Flowers at Hosur comprising of Dharmapuri and Krishnagiri Districts In Tamil Nadu, Agri Export Zone for cut flowers has been approved and Memorandum of Understanding was signed with APEDA. In 198.73 acres of land, “TANFLORA”, a joint venture company of TIDCO and private promoter established infrastructural facilities like Central Packing House comprising of sorting, grading, packaging, cold storage and marketing facilities at Hosur at a cost of Rs. 24.85 crores. During the year 2007-08, 120 lakhs of cut flowers worth Rs.12 Crores have been exported to Europe, Middle and Far East Asian countries, Australia and Japan 2.Agri Export Zone for flowers in Nilgiris District. An Agri Export Zone for flowers at Ooty covering Nilgiris district is being established with the participation by private promoter at a project cost of Rs. 15.89 crores. Memorandum of Understanding has been signed with APEDA. Infrastructure facilitie s like auction centre, mother plant nursery, pre-cooling, cold storage, reefer vans, Hi-tech training centre, common marketing facility, etc., are to be provided in the zone. The department of Horticulture & Plantation Crops is conducting Hi-tech floriculture training and providing planting materials at 50% subsidized cost and subsidy for green houses, shade nets to flower growers. An information centre for providing technical consultancy and other horticultural information to the growers established at Ooty.\n",
            "\n",
            "On 6.2.2007, Electronic Flower Auction centre at a cost of Rs. 11 lakhs has been\n",
            "\n",
            "opened in Nilgiris and it is utilised by the farmers to sell their flowers. 3.Agri Export Zone for Mangoes in Theni District. An Agri Export Zone exclusively for mango has been established in Theni and five other districts namely Madurai, Virudhunagar, Tirunelveli, Dindigul and Kaniyakumari with private sector participation at a project cost of Rs.24.60 crores. Memorandum of Understanding has been signed with APEDA. The private promoter M/s. Maagrita Exports Limited has established infrastructure facilities like state of the art Pack House, collection centre, processing units, grading halls, hot-water treatment plant, pulping centre, dehydration unit, canning unit, etc. in Nilakkottai Food Park. Top 4.Agri Export Zone for Cashew in Cuddalore District. Agri Export Zone for cashew at a project cost of Rs. 17 crores at Cuddalore district has been approved. Memorandum of Understanding has been singed with APEDA. M/s Sattva Agro Export Pvt.Ltd., has been selected as the anchor promoter for cashew Agri Export Zone through private promoter participation. The Detailed Project Report for the construction of common infrastructure facilities was prepared by M/S Sattva Exports and handed over to TIDCO. TIDCO has approved to release an amount of Rs. 47.25 lakhs as State equity to M/S Sattva Agro Export Pvt. Ltd. The Agri Export Zone work commenced in the year 2006-07 and the construction of infrastructure facilities and modernised nurseries is under progress. A survey has been conducted by the Firm for the procurement of cashew from 120 farmers through contract farming. Establishment of Cold Chain In Tamil Nadu 100 lakh M.T. of fruits & vegetables, 75 lakh M.T. of food grains, 3 lakh M.T. of spices and condiments, 5 lakh M.T. of plantation crops are produced. The production of these produces by adopting advanced technologies likely to increase by 30% in the next 5 years. Out of the total production 8-10% of food grains, 30-35% of fruits and vegetables are wasted due to nonavailability of proper storage/cold storage facility. Due to this farmers get 15-25% less price for their produce. To minimize post harvest losses of agricultural produce, especially fruits and vegetables, cereals, spices and plantation crops, it is proposed to set up Cold Chain through public-private participation utilising NABARD fund and NHB subsidy in 15 places. These cold chains will be established taking into consideration the proximity of the vegetable producing area, trading area, public places like community centres, agricultural extension centres etc. Food Processing Industries Processing of food eliminates wastage of agricultural produce to a greater extent. Food processing is gaining momentum as food-processing industries ensure steady and better price to the farming community as well as availability of the commodities in processed form to the consumer throughout the year. By cultivation of good quality processable agricultural produce the farmers stand to gain better returns and employment opportunity. The Agricultural Marketing and Agri Business department acts as a Nodal agency for Ministry of Food Processing Industries, Government of India. Food Park at Dindigul District, Nilakkottai Industrial Estate is being set up at a total cost of Rs.13.00 crores. In Total, from Tamilnadu 441 proposals worth Rs.555.93 crores to establish food processing related projects have been forwarded to the Ministry of Food Processing Industries, Government of India with recommendations for grant of Rs. 97.51 Crores. So far an amount of Rs. 42.95 Crores grant has been released for 197 projects. Tamil Nadu Small Farmers Agri-business Consortium (TNSFAC) The main objective of TNSFAC is to link the small farmers to technologies as well as to market in association with private, corporate, co-operative sectors, by providing both forward and backward linkages. The venture capital assistance of Rs.563.77 lakhs for 20 projects with a project cost of Rs. 4909.51 lakhs has been sanctioned by Small Farmers Agri-business Consortium. Tamil Nadu State Agricultural Marketing Board\n",
            "\n",
            "The important functions of the Board are as follows: 1.Publicity and Propaganda\n",
            "\n",
            "Tamil Nadu State Agricultural Marketing Board is carrying out publicity and propaganda\n",
            "\n",
            "work highlighting the advantages of selling agricultural produce through Regulated Markets through publicity wing at Chennai, Madurai, Coimbatore and Tiruchirappalli. Top 2.Training to Farmers and Staff\n",
            "\n",
            "The training centre of Tamilnadu State Agricultural Marketing Board Chennai is functioning at Salem in an extent of 2.25 acres of land. This Training Centre caters to the training needs of the Market Committee employees and the farmers. Three different training programmes, viz; Graders Training, Market Committee Employees Refresher Training and Personal Contact Programme are conducted by this Training Centre. The graders training is conducted for the employees of the market committee for 30 days duration in 3 batches / year, comprising of 60 employees. The refresher training of 28 days duration is conducted for the Staff working in market committees @ 1 batch/year comprising of 20 persons. The Personal contact programme of 3 days duration is conducted for the farmers in 5 batches (20 farmers / batch) for 100 farmers. During this year 10,010 farmers are to be trained in the post harvest technologies, grading, food processing etc. at a cost of Rs. 52.50 lakhs. So far 3220 farmers have been trained and this will be continued. During the year 2008-09 10,000 farmers are to be trained in the post harvest technologies, grading, food processing etc. at a cost of Rs. 52.50 lakhs. 3.Establishing Marketing Endowment Chair at Tamil Nadu Agricultural University\n",
            "\n",
            "Tamil Nadu State Marketing Board has created an Endowment Chair at the Centre for Agricultural and Rural Development Studies, TNAU, Coimbatore, with a corpus fund of Rs.50.00 lakhs. 29 Various research studies and 19 training programmes have been conducted for the Department Officers and farmers, utilizing the interest accrued from corpus fund deposit. 4.Construction Works\n",
            "\n",
            "The Engineering wing of the department execute civil works such as construction of\n",
            "\n",
            "office buildings, rural godowns, auction platform, shopping complex, agricultural input shops, payment counters, rest sheds, water supply, toilet facilities, internal roads, godowns, compound wall, etc. in the Regulated Markets. 5.Market Development Fund\n",
            "\n",
            "The Tamil Nadu State Agricultural Marketing Board derives its fund resource from the Market Committees. The Market Committees contribute 15% of their receipts to the Board. Fifty percent of this amount is set apart as Market Development Fund, from which expenditure towards market developmental activities including training / publicity and propaganda are met. 6.Domestic and Export Market Intelligence and Guidance Cell at Tamil Nadu Agricultural University\n",
            "\n",
            "Agricultural Produce Domestic and Export Intelligence Guidance Cell has been established in the Tamil Nadu Agricultural University at a cost of Rs.44.00 lakhs from the Tamil Nadu State Agricultural Marketing Board. The Cell would collect details on prices of major commodities at domestic and international markets, analyse and forecast future domestic and export prices. The Cell transmits the forecast prices prevailing in other states and in the forthcoming months to the regulated markets and farmers. The Cell by providing this information helps the farmers to plan the cropping pattern and the right time and right market to sell their produce. This cell has been networked with the Agricultural Production and Marketing Information Centres established in regulated markets. 7.Irrigated Agriculture Modernization and Water Bodies Restoration Management (IAMWARM)\n",
            "\n",
            "IAMWARM Project is a World Bank assisted project. This project is being implemented in the selected 63 sub basins over a period of 6 years (2007-13). In the first year (2007-08), this project have been implemented in the 9 sub basins at a cost of Rs. 8.83 Crores. The projected cost for 63 sub basins is Rs. 24.84 Crores. During the year 2008-09 the project will be implemented in another 16 basins at a cost of Rs. 209.5 lakhs. Under this project, the following components like Drying yard, Storage shed, Collection Centre, Pack House, Agri Business Centre, Goods Auto, Mini Lorry, Moisture Meter, Weighing Scale, Dunnages and Tarpaulin will be provided to benefit the water users Association. Among the 250 groups, 210 groups for agricultural commodity and the remaining 40 groups for horticulture commodity were formed. Under this scheme,16 interface workshops, 15 outside the state exposure visit, 15 inside the state exposure visit, 14 post harvest technology training were also completed. In addition to that, 7 memorandum of understanding between farmers and entrepreneurs were signed.\n",
            "\n",
            "Agricultural Produce Marketing (Development and Regulation), Rules, 2007\n",
            "\n",
            "Contact Address\n",
            "\n",
            "Directorate of Agricultural Marketing and Agri Business Directorate,\n",
            "\n",
            "Thiru Vi Ka Industrial Estate, Chennai 600 032.\n",
            "\n",
            "Email : agmarkbusiness@rediffmail.com.\n",
            "\n",
            "Phone: 044- 22253884, 22253885.\n",
            "\n",
            "Website : www.agriculture.tn.nic.in, www.tnagmark.tn.nic.in. Top\n"
          ],
          "name": "stdout"
        }
      ]
    },
    {
      "cell_type": "code",
      "metadata": {
        "id": "Nx4a5oaovGZc"
      },
      "source": [
        "article_list=['Agricultural','produce','horticulture','intelligence','marketing','tamil nadu','exports','food','processing','awareness','committees','agmark','department','board','flower','cashew']"
      ],
      "execution_count": 14,
      "outputs": []
    },
    {
      "cell_type": "code",
      "metadata": {
        "id": "86TcOJsUL8L5"
      },
      "source": [
        ""
      ],
      "execution_count": 14,
      "outputs": []
    },
    {
      "cell_type": "code",
      "metadata": {
        "id": "fMGt3dc7Patt"
      },
      "source": [
        "#tokenization\n",
        "text = agri\n",
        "sentence_list = nltk.sent_tokenize(text) \n"
      ],
      "execution_count": 15,
      "outputs": []
    },
    {
      "cell_type": "code",
      "metadata": {
        "colab": {
          "base_uri": "https://localhost:8080/"
        },
        "id": "eey1SaZQUAbG",
        "outputId": "84b7749a-8bf1-4aa3-86f7-41a6879797ca"
      },
      "source": [
        "print(sentence_list)\n",
        "print(agricitease_list)"
      ],
      "execution_count": 16,
      "outputs": [
        {
          "output_type": "stream",
          "text": [
            "['Agricultural Marketing in India\\n\\nAgricultural Marketing in Tamilnadu Agricultural Marketing in India India is an agricultural country and one third population depends on the agricultural sector directly or indirectly.', 'Agriculture remains as the main stray of the Indian economy since times immemorial.', 'Indian agriculture contribution to the national gross domestic product (GDP) is about 25 per cent.', 'With food being the crowning need of mankind, much emphasis has been on commercialising agricultural production.', 'For this reason, adequate production and even distribution of food has of late become a high priority global concern.', 'Agricultural marketing is mainly the buying and selling of agricultural products.', 'In earlier days when the village economy was more or less self-sufficient the marketing of agricultural products presented no difficulty as the farmer sold his produce to the consumer on a cash or barter basis.', \"Today's agricultural marketing has to undergo a series of exchanges or transfers from one person to another before it reaches the consumer.\", 'There are three marketing functions involved in this, i.e., assembling, preparation for consumption and distribution.', 'Selling on any agricultural produce depends on some couple of factors like the demand of the product at that time, availability of storage etc.', 'The products may be sold directly in the market or it may be stored locally for the time being.', 'Moreover, it may be sold as it is gathered from the field or it may be cleaned, graded and processed by the farmer or the merchant of the village.', 'Sometime processing is done because consumers want it, or sometimes to conserve the quality of that product.', 'The task of distribution system is to match the supply with the existing demand by whole selling and retailing in various points of different markets like primary, secondary or terminal markets.', 'Most of the agricultural products in India are sold by farmers in the private sector to moneylenders (to whom the farmer may be indebted) or to village traders.', 'Products are sold in various ways.', \"For example, it might be sold at a weekly village market in the farmer's village or in a neighboring village.\", 'If these outlets are not available, then produce might be sold at irregularly held markets in a nearby village or town, or in the mandi.', 'In India, there are several central government organisations, who are involved in agricultural marketing like, Commission of Agricultural Costs and Prices, Food Corporation of India, Cotton Corporation of India, Jute Corporation of India, etc.', 'There are also specialised marketing bodies for rubber, tea, coffee, tobacco, spices and vegetables.', 'Under the Agricultural Produce (grading and marketing) Act of 1937, more than forty primary commodities are compulsorily graded for export and voluntarily graded for internal consumption.', 'Although the regulation of commodity markets is a function of state government, the directorate of marketing and inspection provides marketing and inspection services and financial aid down to the village level to help set up commodity grading centers in selected markets.', 'As we have a tradition of agricultural production, marketing and allied commercial activities, now it is the time for us to brainstorm and come out with new ideas of value added services.', 'These value added services will give the existing agricultural engine a new dimension.', 'The next logical step could be food-processing which not only could be another revenue generating area but also can provide lots of full-time employment to our youths.', 'With the changing agricultural scenario and global competition, there is a need of exploiting the available resources at maximum level.', 'There was a survey undertaken by the directorate of marketing and inspection in the ministry of agriculture in 1970-71 and 1971-72, of five hundred regulated markets was, with a view to assessing the adequacy and efficiency of the existing regulated markets and highlighting their drawbacks and deficiencies and suggesting measures to develop them.', 'One of the most important drawbacks has been the inadequate financial resources of some of the market committees.', 'During the fourth plan, a central sector scheme was drawn up by the ministry of agriculture to provide a grant at 20 per cent of the cost of development of market, subject to a maximum of Rs.', '2 lakhs.', 'The balance will have to be provided by the commercial banks.', 'Another important development in the field of regulated markets is the keen interest taken by the International Development Agency (IDA) in the development of the infrastructure in regulated markets.', 'The IDA is financing the development of infrastructure in 50 markets of Bihar.', 'There are also some good news on the front of irrigation, rural infrastructure, restoring water bodies and water harvesting.', 'Another action initiated to improve the governance of the Small Farmers Agri-business Consortium (SFAC) including the appointment of a banker as the chief executive; necessary additional capital to be provided to SFAC.', 'Source:http://www.domain-b.com/economy/agriculture/20040713_marketing.html Top Agricultural Marketing in Tamilnadu Introduction\\n\\nThe Vision of the Department of Agricultural Marketing & Agri Business is to ensure fair price to the farming community who are left behind in the competitive marketing scenario and the mission of achieving this is by enforcing the existing act and rules most effectively and also by devising, implementing new technologies aimed at reducing pre and post harvest losses through appropriate methods and encourage value addition.', 'Green Revolution initiatives achieved self-sufficiency by increasing food grains production.', 'Simultaneously, several initiatives have been taken to promote agricultural marketing in the state.', 'Agricultural Marketing infrastructure plays a pivotal role in fostering and sustaining the tempo of rural economic development.', 'Marketing is as critical to better performance in agriculture as farming itself.', 'Agri Business is a process, which starts with a decision to produce a saleable farm commodity and it involves all the aspects relating to pre and post-harvest operations including grading, value addition, packaging, processing and transportation.', 'These operations add value to farm produce.', 'The Department of Agricultural Marketing, which is functioning since 1977, with the main objective of Regulation of Agricultural Marketing, was renamed in the year 2001 as Department of Agricultural Marketing and Agri.', 'Business in order to focus on other activities like Agri Export, Post Harvest Management, Food Processing, etc.', 'Restructure One Deputy Director of Agriculture (Agri Business) for each district, one Agricultural Officer for every two blocks, one Assistant Agricultural Officer for one block have been posted as per restructuring to regulate Agri Business and encourage entrepreneurs.', 'In 103\\n\\nUzhavar Sandhais, 51 Agricultural Officers and 52 Deputy Agricultural Officers are posted.', 'After restructuring 239 original posts have been enhanced to 906 posts in Agricultural Marketing and Agri Business Department.', 'The Main Activities Establishment and maintenance of Uzhavar Sandhaigal for the benefit of farmers as well as consumers.', 'To create marketing opportunities for small and marginal farmers in cultivation of fruits, vegetables and flowers by formation of groups which includes production, storing and export.', 'Establishment and maintenance of regulated markets in order to facilitate buying and\\n\\nselling of agricultural produce for the benefit of the farming community.', 'Grading of agricultural produce in the regulated markets and at farm holdings to help the producers to get remunerative price for their produce.', 'To create awareness among the farmers about the benefits of grading, marketing, value addition and processing their produce through regulated markets by taking up training, publicity and propaganda.', 'To set up Agriculture Export Zones for promoting export of agricultural produce by increasing the area under exportable crops, providing necessary post harvest management and other infrastructure required and information on prices prevailing at international markets as an integrated approach through computers.', 'To take up Agmark grading of agricultural, animal husbandry and forestry products for the benefit of the consumers.', 'To set up modern cold storage facilities to enable the farmers to store and sell their produce at favourable price and to help consumers to get quality food products.', 'Food Processing Industries are promoted to minimise wastage of agricultural products,\\n\\nto increase employment opportunities and to enhance foreign exchange.', 'MARKET COMMITTEES\\n\\nAt present 21 Market committees are functioning in Tamil Nadu at district Level.', 'Top 1.Regulated Markets There are 277 Regulated Markets, 15 Check Posts, 108 Rural Godowns and 108 grading centres functioning under the Market Committees, Competitive and remunerative prices are ensured for the produce sold by the farmers through closed tender system in the Regulated Markets.', 'Free Grading facilities for agricultural commodities and issuing pledge loan during distress sale are also available in the Regulated Markets.', 'The farmers of states of Maharashtra, Karnataka and Andhra Pradesh, sell their produce only through regulated markets as compulsory marketing is in force.', '1 to 2 % of the value of the produce is collected as market fees from the traders who procure the produce from the farmers.', 'The procurement method is simplified in Tamilnadu so as to benefit the farmer.', '1% of the value of the produce is collected as market fee from traders.', 'Action is being taken for the construction of own building for Nilgiris Market Committee and 4 regulated markets at Ooty, Kothagiri, Coonur and Gudalur during this year at a cost of Rs.', '3.25 crores.', 'Necessary steps will be taken to acquire land for this purpose through District Collector, Nilgiris.', '2.Services Rendered in the Regulated Markets Regulated Markets provides facilities such as correct weighment by using electronic weigh bridges and weighing balances, godown facilities, bank facility, immediate payment, daily price information, rest sheds, drinking water facility, cattle sheds, free medical aid to farmers, input shops, phone and fax facilities etc.', 'Under \"AGMARKNET\" centrally sponsored scheme 93 regulated markets have been provided with computer and Internet connectivity for effective price dissemination among farmers through AGMARKNET website.', 'The information on commodity prices prevailing in various markets is made available; the farmers would be able to get better price of their produce by moving their produce to the market which pays higher.', 'During the year 2007-08, 100 Regulated markets were computerized through AGMARKNET.', 'The Market Committee-wise infrastructure facilities provided in the Regulated 3.Notification of produce So far, 42 Agricultural Commodities like cereals, millets, pulses, oilseeds, cotton, turmeric, etc.', 'have been notified.', 'Necessary action is being taken for Uniform notification of agricultural commodities throughout the state during this financial year.', '4.Pledge Loan Facilities to Farmers In order to avoid distress sales by the small and marginal farmers in the peak season, Regulated Markets are issuing pledge loan to farmers.', 'Under this scheme, the farmers can store their agricultural produce in the godowns of Regulated Markets for a maximum period of 6 months and take pledge loan of 75% of the total value of the produce upto a maximum of Rs.1,00,000.', 'Likewise Pledge Loan facilities are extended to traders also with the rate of interest specified from time to time.', 'Interest at the rate 9% for traders is charged for pledge loan facilities.', 'During the previous financial year interest rates were reduced from 8% to 5% for the benefit of farmers.', '5.Tamil Nadu Farmers Development and Welfare Scheme Under this scheme, the farmers / tenants who sell one metric tone of paddy (or) equivalent value of their agricultural produce through Regulated Markets every year will be enrolled under this scheme and are eligible for a grant of a lumpsum amount up to Rs.', '1,00,000, in case of death/ permanent disability occurring due to accident / death due to snake bite.', 'In case the eligible farmer / tenant looses both the hands or either the legs or both the eyes due to accident, is eligible for a grant of Rs.75, 000/-.', 'Incase of losing one hand or one leg or one eye or hip disability due to accident the farmer / tenant is eligible for a grant of Rs.50,000/-.', 'The farmers need not pay any premium for this fund.', 'The Market Committee concerned and the Tamil Nadu State Agricultural Marketing Board will bear the premium amount of Rs.10 per individual per year equally.', '6.Agmark Grading Agmark grading is undertaken to protect the consumers from the ill effects of consuming adulterated food commodities and to ensure quality food products.', '30 Agmark grading laboratories and 1 Principal Agmark Grading Laboratory are engaged in grading the notified food products like vegetableoils, ghee, butter, honey, wheatflour, besanflour, ground spices, sago, rice, pulses, ragi, jaggery, turmeric, potato etc.', 'During the previous financial year, sophisticated equipments has been purchased for Rs.', '25.46 lakhs under Part- II Scheme for State Agmark grading Labs and Agricultural Marketing Centres in order to benefit the packers and consumers.', 'Top 7.Construction of Drying Yards in the Villages Out of 10% of Agricultural commodity wastage, 6% loss is due to not adhering proper post harvest practices.', 'In order to minimise the post harvest losses in grains, the department has taken up construction of drying yards at village level.', 'From the year 1997 under this scheme, 1228 drying yards have been constructed at a total cost of Rs.23.20 crores.', 'During the year 2007- 08 construction of 100 Drying Yards at a cost of Rs.', '2.50 crores is under progress.', 'This scheme shall continue during 2008 – 09.', 'Uzhavar Sandhaigal 103 uzhavar Sandhais are functioning in the state in Municipality and Town Panchayat areas for direct selling of fruits and vegetables by farmers to consumers without any hindrance of middlemen.', 'The main object of Uzhavar Sandhai are to ensure farmers to get a better price for their produce and to enable the consumers to get fresh fruits and vegetables at a lesser price than the retail market price.', 'During the year 2007- 08, action is being taken to establish 50 more Uzhavar Sandhais at a cost of Rs.', '11.25 crores.', 'Hasthampatti Uzhavar Sandhai in Salem district has been inaugurated on 14.01.2008.', 'As on date 104 Uzhavar Sandhais are functioning .Action is being taken to establish the remaining 49 Uzhavar Sandhais.', 'Cold storage rooms of 2.0 M.T.', 'capacities are to be installed in 22 top performing Uzhavar Sandhais at a cost of Rs.133.10 lakhs.', 'Various measures are taken by this Department to increase the arrivals in Uzhavar Sandhai, increase the number of farmers and for development of Uzhavar Sandhai.', 'Everyday, on an average, 1053 MT of fruits and vegetable worth Rs.108 lakhs are sold benefiting 7800 farmers and 1,97,000 consumers per day.', 'Services to be rendered in the Uzhavar Sandhaigal\\n\\nAdditional facilities like electronic weighing scale, Plastic trays, trolleys, wastage bins will be provided for the farmers in the Uzhavar Sandhaigal.', 'Computers for effective communication, new hybrid seeds, seedlings, organic farming methodology, vermicomposting demonstration and post harvest management training to farmers will also be offered to those farmers visiting Uzhavar Sandhai.', '25 Uzhavar Sandhais have been supplied with computers.', 'ESTABLISHMENT OF MARKET COMPLEX 1.Establishment of Market Complex for Mango and Onion.', 'For the interest of the small and marginal farmers action is being taken to establish market complex with cold storage facility at Pongalur in Coimbatore District for Onion and at Krishnagiri in Krishnagiri District for Mango at a project cost of Rs.', '2 crores each (Total Rs.4 crores).', 'Entrepreneurs have submitted their Expression of Interest and Detailed Project Report.', 'The Projects were evaluated by the evaluation committee and the evaluation report and joint venture agreement with M/S Premium Farm Fresh Produces Limited, New Delhi as a equity partner with Tamilnadu State Agricultural Marketing Board is under consideration.', '2.Establishment of Market Complex for Grapes at Odaipatti, Theni District.', 'Cold storage unit at Odaipatti in Theni District will be established at a cost of Rs.', '3.75 crores for grapes in order to facilitate grading, packing and export of grapes, so as to benefit the grape growers.', 'The evaluation proposal submitted by M/s.', 'Peninsula Agro Tech India Ltd. of Theni District as a equity partner with Tamilnadu Agricultural Marketing Board is under consideration.', 'Top 3.Establishment of Terminal Markets As per the guidelines of the central Government, three Terminal Markets with all value addition facilities would be established near metro areas of Chennai, Madurai and Coimbatore for processing, storage and marketing of perishables like fruits and vegetables at a total cost ofRs.200 crores.', 'Consultants have been selected to implement the project.', 'M/s Darasha and company private ltd Mumbai, selected as a consultancy agency for implementing the Terminal Market scheme in Tamil Nadu.', 'An Agreement was executed with the consultancy firm on 10.12.07 by Tamilnadu State Agricultural Marketing Board, Chennai to prepare RFQ, RFP and DPR.', 'Global Tender has been floated.', 'Agricultural Production and Marketing Information Centre Market intelligence plays a vital role in marketing agricultural produce.', 'If the information on commodity prices prevailing in various markets is made available, the farmers would be able to get better price to their produce by moving their produce to the market which pays higher.', 'Taking this aspect into consideration, Agricultural Production and Marketing Information Centre has been established in 14 Regulated Markets like Dindugal, Alangudi, Madurai, Thirumangalam, Theni, Sivagangai, Ramanathapuram, Aruppukottai, Virudhunagar, Rajapalayam, Tirunelveli, Tuticorin, Vadaseri and Monday Market at a cost of Rs.45.00 lakhs.', 'These centres were provided with computer and accessories with internet facility and electronic display boards.', 'Agricultural Produce arrival, price details and post harvest management practices in the regulated markets are flashed in the Electronic display boards, for the benefit of farmers.', 'AGRI EXPORT ZONES\\n\\nTo promote Agri Horticultural Produce Exports from Tamil Nadu, four Agri Export Zones for specific commodities have been established as detailed below.', '1 Agri Export Zone for Cut Flowers at Hosur comprising of Dharmapuri and Krishnagiri Districts In Tamil Nadu, Agri Export Zone for cut flowers has been approved and Memorandum of Understanding was signed with APEDA.', 'In 198.73 acres of land, “TANFLORA”, a joint venture company of TIDCO and private promoter established infrastructural facilities like Central Packing House comprising of sorting, grading, packaging, cold storage and marketing facilities at Hosur at a cost of Rs.', '24.85 crores.', 'During the year 2007-08, 120 lakhs of cut flowers worth Rs.12 Crores have been exported to Europe, Middle and Far East Asian countries, Australia and Japan 2.Agri Export Zone for flowers in Nilgiris District.', 'An Agri Export Zone for flowers at Ooty covering Nilgiris district is being established with the participation by private promoter at a project cost of Rs.', '15.89 crores.', 'Memorandum of Understanding has been signed with APEDA.', 'Infrastructure facilitie s like auction centre, mother plant nursery, pre-cooling, cold storage, reefer vans, Hi-tech training centre, common marketing facility, etc., are to be provided in the zone.', 'The department of Horticulture & Plantation Crops is conducting Hi-tech floriculture training and providing planting materials at 50% subsidized cost and subsidy for green houses, shade nets to flower growers.', 'An information centre for providing technical consultancy and other horticultural information to the growers established at Ooty.', 'On 6.2.2007, Electronic Flower Auction centre at a cost of Rs.', '11 lakhs has been\\n\\nopened in Nilgiris and it is utilised by the farmers to sell their flowers.', '3.Agri Export Zone for Mangoes in Theni District.', 'An Agri Export Zone exclusively for mango has been established in Theni and five other districts namely Madurai, Virudhunagar, Tirunelveli, Dindigul and Kaniyakumari with private sector participation at a project cost of Rs.24.60 crores.', 'Memorandum of Understanding has been signed with APEDA.', 'The private promoter M/s.', 'Maagrita Exports Limited has established infrastructure facilities like state of the art Pack House, collection centre, processing units, grading halls, hot-water treatment plant, pulping centre, dehydration unit, canning unit, etc.', 'in Nilakkottai Food Park.', 'Top 4.Agri Export Zone for Cashew in Cuddalore District.', 'Agri Export Zone for cashew at a project cost of Rs.', '17 crores at Cuddalore district has been approved.', 'Memorandum of Understanding has been singed with APEDA.', 'M/s Sattva Agro Export Pvt.Ltd., has been selected as the anchor promoter for cashew Agri Export Zone through private promoter participation.', 'The Detailed Project Report for the construction of common infrastructure facilities was prepared by M/S Sattva Exports and handed over to TIDCO.', 'TIDCO has approved to release an amount of Rs.', '47.25 lakhs as State equity to M/S Sattva Agro Export Pvt.', 'Ltd.', 'The Agri Export Zone work commenced in the year 2006-07 and the construction of infrastructure facilities and modernised nurseries is under progress.', 'A survey has been conducted by the Firm for the procurement of cashew from 120 farmers through contract farming.', 'Establishment of Cold Chain In Tamil Nadu 100 lakh M.T.', 'of fruits & vegetables, 75 lakh M.T.', 'of food grains, 3 lakh M.T.', 'of spices and condiments, 5 lakh M.T.', 'of plantation crops are produced.', 'The production of these produces by adopting advanced technologies likely to increase by 30% in the next 5 years.', 'Out of the total production 8-10% of food grains, 30-35% of fruits and vegetables are wasted due to nonavailability of proper storage/cold storage facility.', 'Due to this farmers get 15-25% less price for their produce.', 'To minimize post harvest losses of agricultural produce, especially fruits and vegetables, cereals, spices and plantation crops, it is proposed to set up Cold Chain through public-private participation utilising NABARD fund and NHB subsidy in 15 places.', 'These cold chains will be established taking into consideration the proximity of the vegetable producing area, trading area, public places like community centres, agricultural extension centres etc.', 'Food Processing Industries Processing of food eliminates wastage of agricultural produce to a greater extent.', 'Food processing is gaining momentum as food-processing industries ensure steady and better price to the farming community as well as availability of the commodities in processed form to the consumer throughout the year.', 'By cultivation of good quality processable agricultural produce the farmers stand to gain better returns and employment opportunity.', 'The Agricultural Marketing and Agri Business department acts as a Nodal agency for Ministry of Food Processing Industries, Government of India.', 'Food Park at Dindigul District, Nilakkottai Industrial Estate is being set up at a total cost of Rs.13.00 crores.', 'In Total, from Tamilnadu 441 proposals worth Rs.555.93 crores to establish food processing related projects have been forwarded to the Ministry of Food Processing Industries, Government of India with recommendations for grant of Rs.', '97.51 Crores.', 'So far an amount of Rs.', '42.95 Crores grant has been released for 197 projects.', 'Tamil Nadu Small Farmers Agri-business Consortium (TNSFAC) The main objective of TNSFAC is to link the small farmers to technologies as well as to market in association with private, corporate, co-operative sectors, by providing both forward and backward linkages.', 'The venture capital assistance of Rs.563.77 lakhs for 20 projects with a project cost of Rs.', '4909.51 lakhs has been sanctioned by Small Farmers Agri-business Consortium.', 'Tamil Nadu State Agricultural Marketing Board\\n\\nThe important functions of the Board are as follows: 1.Publicity and Propaganda\\n\\nTamil Nadu State Agricultural Marketing Board is carrying out publicity and propaganda\\n\\nwork highlighting the advantages of selling agricultural produce through Regulated Markets through publicity wing at Chennai, Madurai, Coimbatore and Tiruchirappalli.', 'Top 2.Training to Farmers and Staff\\n\\nThe training centre of Tamilnadu State Agricultural Marketing Board Chennai is functioning at Salem in an extent of 2.25 acres of land.', 'This Training Centre caters to the training needs of the Market Committee employees and the farmers.', 'Three different training programmes, viz; Graders Training, Market Committee Employees Refresher Training and Personal Contact Programme are conducted by this Training Centre.', 'The graders training is conducted for the employees of the market committee for 30 days duration in 3 batches / year, comprising of 60 employees.', 'The refresher training of 28 days duration is conducted for the Staff working in market committees @ 1 batch/year comprising of 20 persons.', 'The Personal contact programme of 3 days duration is conducted for the farmers in 5 batches (20 farmers / batch) for 100 farmers.', 'During this year 10,010 farmers are to be trained in the post harvest technologies, grading, food processing etc.', 'at a cost of Rs.', '52.50 lakhs.', 'So far 3220 farmers have been trained and this will be continued.', 'During the year 2008-09 10,000 farmers are to be trained in the post harvest technologies, grading, food processing etc.', 'at a cost of Rs.', '52.50 lakhs.', '3.Establishing Marketing Endowment Chair at Tamil Nadu Agricultural University\\n\\nTamil Nadu State Marketing Board has created an Endowment Chair at the Centre for Agricultural and Rural Development Studies, TNAU, Coimbatore, with a corpus fund of Rs.50.00 lakhs.', '29 Various research studies and 19 training programmes have been conducted for the Department Officers and farmers, utilizing the interest accrued from corpus fund deposit.', '4.Construction Works\\n\\nThe Engineering wing of the department execute civil works such as construction of\\n\\noffice buildings, rural godowns, auction platform, shopping complex, agricultural input shops, payment counters, rest sheds, water supply, toilet facilities, internal roads, godowns, compound wall, etc.', 'in the Regulated Markets.', '5.Market Development Fund\\n\\nThe Tamil Nadu State Agricultural Marketing Board derives its fund resource from the Market Committees.', 'The Market Committees contribute 15% of their receipts to the Board.', 'Fifty percent of this amount is set apart as Market Development Fund, from which expenditure towards market developmental activities including training / publicity and propaganda are met.', '6.Domestic and Export Market Intelligence and Guidance Cell at Tamil Nadu Agricultural University\\n\\nAgricultural Produce Domestic and Export Intelligence Guidance Cell has been established in the Tamil Nadu Agricultural University at a cost of Rs.44.00 lakhs from the Tamil Nadu State Agricultural Marketing Board.', 'The Cell would collect details on prices of major commodities at domestic and international markets, analyse and forecast future domestic and export prices.', 'The Cell transmits the forecast prices prevailing in other states and in the forthcoming months to the regulated markets and farmers.', 'The Cell by providing this information helps the farmers to plan the cropping pattern and the right time and right market to sell their produce.', 'This cell has been networked with the Agricultural Production and Marketing Information Centres established in regulated markets.', '7.Irrigated Agriculture Modernization and Water Bodies Restoration Management (IAMWARM)\\n\\nIAMWARM Project is a World Bank assisted project.', 'This project is being implemented in the selected 63 sub basins over a period of 6 years (2007-13).', 'In the first year (2007-08), this project have been implemented in the 9 sub basins at a cost of Rs.', '8.83 Crores.', 'The projected cost for 63 sub basins is Rs.', '24.84 Crores.', 'During the year 2008-09 the project will be implemented in another 16 basins at a cost of Rs.', '209.5 lakhs.', 'Under this project, the following components like Drying yard, Storage shed, Collection Centre, Pack House, Agri Business Centre, Goods Auto, Mini Lorry, Moisture Meter, Weighing Scale, Dunnages and Tarpaulin will be provided to benefit the water users Association.', 'Among the 250 groups, 210 groups for agricultural commodity and the remaining 40 groups for horticulture commodity were formed.', 'Under this scheme,16 interface workshops, 15 outside the state exposure visit, 15 inside the state exposure visit, 14 post harvest technology training were also completed.', 'In addition to that, 7 memorandum of understanding between farmers and entrepreneurs were signed.', 'Agricultural Produce Marketing (Development and Regulation), Rules, 2007\\n\\nContact Address\\n\\nDirectorate of Agricultural Marketing and Agri Business Directorate,\\n\\nThiru Vi Ka Industrial Estate, Chennai 600 032.', 'Email : agmarkbusiness@rediffmail.com.', 'Phone: 044- 22253884, 22253885.', 'Website : www.agriculture.tn.nic.in, www.tnagmark.tn.nic.in.', 'Top']\n",
            "[' \"AGRICITEASE\" affinity founding between Farmers and Consumers\\n is an all-inclusive digital platform designed to assist farmers in selling their products The new move will eliminate the need for farmers to sell their products through retailers that will escalate in farmer\\'s profits.', 'Our web application and android app consists of three portals\\nFarmer -- one can upload their details and farm details as well.', 'Farmers will also be advised about the crop productivity based on present crop statistics\\n\\nConsumer -- Can purchase the products at fair price\\nRepresentative -- The one who works on behalf of unlettered and novice users by uploading their farm details and can earn about 5-10% on each fortunate deal.', 'Empowers employment for jobless.', 'For the feasibility of end user our app even provides language translation.', 'Market - Our Customers are Consumers and Users are Farmers and Representative.', 'We mainly want to Focus on customers who buy the yield in bulk amounts like Restaraunts, Hostels, Catering services etc; \\n\\nFeatures of Farmers Interface:\\nFarmers can upload their farm details and store them to be displayed for the consumers\\nFarmers can relate with the consumers through video calling to have a better experience and worthy trust\\nCan view the information in their required languages \\nEducating journals regarding seasonal crops and statistics of the profitable crops are provided for next harvest.', 'Features of Representatives Interface\\nRepresentatives can earn their living by aiding farmers in their\\nRepresentatives can upload farmers farm details .', 'Features of Consumers Interface\\nConsumer can have a Video Conference with the farmer for better experience\\nMore Information about Farmers is provided for the consumers for their further contact purposes\\nConsumer can view the crops and filter them based on the type and delivery date of the  crop  \\nConsumer can rate the quality of crop and can even given suggestions to the farmer\\n\\nDelivery - The yield will get delilvered in span of 10-15days.']\n"
          ],
          "name": "stdout"
        }
      ]
    },
    {
      "cell_type": "code",
      "metadata": {
        "id": "NazVlplRUFBo"
      },
      "source": [
        "# function to return random greeting response\n",
        "def greeting_response(text):\n",
        "  text = text.lower()\n",
        "\n",
        "  #bots greetinng response\n",
        "  bot_greetings = ['Hi there, how can we help you today?','Hi, Good to see you, do you need something?','Hey! Can I help you with something?','Hey! I am glad that you are here. Please tell me, how can I help you?']\n",
        "  #users greetings\n",
        "  user_greetings= ['hi','hellooo','hello','greetings','wassup']\n",
        "\n",
        "  for word in text.split():\n",
        "    if word in user_greetings:\n",
        "      return random.choice(bot_greetings)"
      ],
      "execution_count": 17,
      "outputs": []
    },
    {
      "cell_type": "code",
      "metadata": {
        "id": "YGvijks7BHVg"
      },
      "source": [
        "# function to return random goodbye response\n",
        "def goodbye_response(text):\n",
        "  text = text.lower()\n",
        "\n",
        "  #bots goodbye response\n",
        "  bot_goodbye = ['Bye!Have a good day!','Goodbye','Come visit us again.Bye-Bye!','See you later!']\n",
        "  #users goodbye\n",
        "  user_goodbye= ['byee','goodbye','adios','bye']\n",
        "\n",
        "  for word in text.split():\n",
        "    if word in user_goodbye:\n",
        "      return random.choice(bot_goodbye)"
      ],
      "execution_count": 18,
      "outputs": []
    },
    {
      "cell_type": "code",
      "metadata": {
        "id": "LJWz_AducSI1"
      },
      "source": [
        "#funtion to return about agrigobot\n",
        "def who_response(text):\n",
        "  text = text.lower()\n",
        "\n",
        "  #bots response\n",
        "  bot_whoresponse = ['Iam your very own AgriGo bot, here to help!',\"I'm AgriGo bot, here to assist you!\"]\n",
        "  #users ques\n",
        "  user_ques =['who are you?','what is your name?', 'what do you do?']\n",
        "\n",
        "\n",
        "  if text in user_ques:\n",
        "    return random.choice(bot_whoresponse)\n"
      ],
      "execution_count": 19,
      "outputs": []
    },
    {
      "cell_type": "code",
      "metadata": {
        "id": "nTh_GNRZ3v3i"
      },
      "source": [
        "# function to return random thank-you response\n",
        "def thanks_response(text):\n",
        "  text = text.lower()\n",
        "\n",
        "  #bots thanks response\n",
        "  bot_thanks = ['You got it','Don’t mention it','No worries','Not a problem','My pleasure','It was nothing','I’m happy to help','Anytime']\n",
        "  #users thanks\n",
        "  user_thanks= ['Thanks so much','Thanks a lot','Thanks a bunch','Thanks a ton', 'Thanks','thanks','thank you','thankyou']\n",
        "\n",
        "  for word in text.split():\n",
        "    if word in user_thanks:\n",
        "      return random.choice(bot_thanks)"
      ],
      "execution_count": 20,
      "outputs": []
    },
    {
      "cell_type": "code",
      "metadata": {
        "id": "ZK6h_DwJAwfc"
      },
      "source": [
        "# function to return for unmatched statements\n",
        "def idk_response(text):\n",
        "  text = text.lower()\n",
        "\n",
        "  #bots idk response\n",
        "\n",
        "  bot_idk = [\"What did you say?\",\"I don't understand.\",\"Excuse me, I didn't get it.\",\"Excuse me, can you please repeat it?\",\"Sorry, I did not catch that.\",\"I missed that.\",\"I don't get it.\",\"I’m afraid it is not clear what you saying.\",\"I am sorry, but I don’t follow what you are saying.\",\"I don’t catch what you said.Sorry.\"]\n",
        "\n",
        "  return random.choice(bot_idk)"
      ],
      "execution_count": 21,
      "outputs": []
    },
    {
      "cell_type": "code",
      "metadata": {
        "id": "KXu9jlADKgkM"
      },
      "source": [
        "def agricitease_response(user_input):\n",
        "\n",
        "  user_input = user_input.lower()\n",
        "  user_input1= user_input.split(\" \")\n",
        "  for word in user_input1:\n",
        "    if word in article_list:\n",
        "      agr_list.append(word)\n",
        "      agricitease_response = ''\n",
        "      cm = CountVectorizer().fit_transform(agricitease_list)\n",
        "      similarity_scores = cosine_similarity(cm[-1],cm)\n",
        "      similarity_scores_list = similarity_scores.flatten()\n",
        "      index = index_sort(similarity_scores_list)\n",
        "      index = index[1:]\n",
        "      response_flag = 0\n",
        "      j = 0\n",
        "      for i in range(len(index)):\n",
        "        if similarity_scores_list[index[i]] > 0.0:\n",
        "          colour = '\\33[34m'\n",
        "          agricitease_response = (fontstyle.apply('\\33[34m' \"Agri bot: \"  + agricitease_list[index[i]],'bold/Italic'))\n",
        "          response_flag = 1\n",
        "          j = j+1\n",
        "          if j >2:\n",
        "            break\n",
        "      if response_flag == 0:\n",
        "        color = '\\33[32m'\n",
        "        agricitease_response = (fontstyle.apply('\\33[32m' \"Agri bot: \" +idk_response(user_input),'bold/Italic'))\n",
        "        agricitease_list.remove(user_input)\n",
        "      return agricitease_response\n"
      ],
      "execution_count": 22,
      "outputs": []
    },
    {
      "cell_type": "code",
      "metadata": {
        "id": "sRRXL_N6Vybd"
      },
      "source": [
        "def index_sort(list_var):\n",
        "  length = len(list_var)\n",
        "  list_index = list(range(0, length))\n",
        "\n",
        "  x = list_var\n",
        "  for i in range(length):\n",
        "    for j in range(length):\n",
        "      if x[list_index[i]] > x[list_index[j]]:\n",
        "        #swap\n",
        "        temp = list_index[i]\n",
        "        list_index[i] = list_index[j]\n",
        "        list_index[j] = temp\n",
        "\n",
        "  return list_index"
      ],
      "execution_count": 23,
      "outputs": []
    },
    {
      "cell_type": "code",
      "metadata": {
        "id": "QkKujK9aoFNA",
        "colab": {
          "base_uri": "https://localhost:8080/"
        },
        "outputId": "50c449b1-f72d-4ce3-ba6f-441c85e93376"
      },
      "source": [
        "model = Sequential()\n",
        "model.add(Dense(128, input_shape=(len(train_x[0]),), activation='relu'))\n",
        "model.add(Dropout(0.5))\n",
        "model.add(Dense(64, activation='relu'))\n",
        "model.add(Dropout(0.5))\n",
        "model.add(Dense(len(train_y[0]), activation='softmax'))\n",
        "# Compile model. Stochastic gradient descent with Nesterov accelerated gradient gives good results for this model\n",
        "sgd = SGD(lr=0.01, decay=1e-6, momentum=0.9, nesterov=True)\n",
        "model.compile(loss='categorical_crossentropy', optimizer=sgd, metrics=['accuracy'])\n",
        "#fitting and saving the model \n",
        "hist = model.fit(np.array(train_x), np.array(train_y), epochs=200, batch_size=5, verbose=1)\n",
        "model.save('chatbot_model.h5', hist)\n",
        "print(\"model created\")\n"
      ],
      "execution_count": 24,
      "outputs": [
        {
          "output_type": "stream",
          "text": [
            "Epoch 1/200\n",
            "14/14 [==============================] - 13s 2ms/step - loss: 2.7562 - accuracy: 0.0872 \n",
            "Epoch 2/200\n",
            "14/14 [==============================] - 0s 2ms/step - loss: 2.6971 - accuracy: 0.1861\n",
            "Epoch 3/200\n",
            "14/14 [==============================] - 0s 2ms/step - loss: 2.6061 - accuracy: 0.2417\n",
            "Epoch 4/200\n",
            "14/14 [==============================] - 0s 2ms/step - loss: 2.4926 - accuracy: 0.2661\n",
            "Epoch 5/200\n",
            "14/14 [==============================] - 0s 2ms/step - loss: 2.3777 - accuracy: 0.3740\n",
            "Epoch 6/200\n",
            "14/14 [==============================] - 0s 1ms/step - loss: 2.3260 - accuracy: 0.4169\n",
            "Epoch 7/200\n",
            "14/14 [==============================] - 0s 2ms/step - loss: 2.1739 - accuracy: 0.3032\n",
            "Epoch 8/200\n",
            "14/14 [==============================] - 0s 2ms/step - loss: 1.9967 - accuracy: 0.4564\n",
            "Epoch 9/200\n",
            "14/14 [==============================] - 0s 2ms/step - loss: 1.8305 - accuracy: 0.6144\n",
            "Epoch 10/200\n",
            "14/14 [==============================] - 0s 2ms/step - loss: 1.5484 - accuracy: 0.5991\n",
            "Epoch 11/200\n",
            "14/14 [==============================] - 0s 2ms/step - loss: 1.5003 - accuracy: 0.5447\n",
            "Epoch 12/200\n",
            "14/14 [==============================] - 0s 2ms/step - loss: 1.4418 - accuracy: 0.6236\n",
            "Epoch 13/200\n",
            "14/14 [==============================] - 0s 2ms/step - loss: 1.1740 - accuracy: 0.7148\n",
            "Epoch 14/200\n",
            "14/14 [==============================] - 0s 3ms/step - loss: 0.9705 - accuracy: 0.7596\n",
            "Epoch 15/200\n",
            "14/14 [==============================] - 0s 2ms/step - loss: 0.8553 - accuracy: 0.7780\n",
            "Epoch 16/200\n",
            "14/14 [==============================] - 0s 2ms/step - loss: 0.9458 - accuracy: 0.7518\n",
            "Epoch 17/200\n",
            "14/14 [==============================] - 0s 2ms/step - loss: 0.7523 - accuracy: 0.8466\n",
            "Epoch 18/200\n",
            "14/14 [==============================] - 0s 2ms/step - loss: 0.8208 - accuracy: 0.7874\n",
            "Epoch 19/200\n",
            "14/14 [==============================] - 0s 1ms/step - loss: 0.8511 - accuracy: 0.7305\n",
            "Epoch 20/200\n",
            "14/14 [==============================] - 0s 2ms/step - loss: 0.4712 - accuracy: 0.9003\n",
            "Epoch 21/200\n",
            "14/14 [==============================] - 0s 2ms/step - loss: 0.5840 - accuracy: 0.8484\n",
            "Epoch 22/200\n",
            "14/14 [==============================] - 0s 2ms/step - loss: 0.5128 - accuracy: 0.8390\n",
            "Epoch 23/200\n",
            "14/14 [==============================] - 0s 2ms/step - loss: 0.4864 - accuracy: 0.8830\n",
            "Epoch 24/200\n",
            "14/14 [==============================] - 0s 2ms/step - loss: 0.6853 - accuracy: 0.7786\n",
            "Epoch 25/200\n",
            "14/14 [==============================] - 0s 3ms/step - loss: 0.3930 - accuracy: 0.8873\n",
            "Epoch 26/200\n",
            "14/14 [==============================] - 0s 2ms/step - loss: 0.4693 - accuracy: 0.8431\n",
            "Epoch 27/200\n",
            "14/14 [==============================] - 0s 3ms/step - loss: 0.4195 - accuracy: 0.9100\n",
            "Epoch 28/200\n",
            "14/14 [==============================] - 0s 3ms/step - loss: 0.5563 - accuracy: 0.9104\n",
            "Epoch 29/200\n",
            "14/14 [==============================] - 0s 2ms/step - loss: 0.4344 - accuracy: 0.9132\n",
            "Epoch 30/200\n",
            "14/14 [==============================] - 0s 2ms/step - loss: 0.3257 - accuracy: 0.9245\n",
            "Epoch 31/200\n",
            "14/14 [==============================] - 0s 2ms/step - loss: 0.6234 - accuracy: 0.7923\n",
            "Epoch 32/200\n",
            "14/14 [==============================] - 0s 1ms/step - loss: 0.3807 - accuracy: 0.8996\n",
            "Epoch 33/200\n",
            "14/14 [==============================] - 0s 2ms/step - loss: 0.4267 - accuracy: 0.9134\n",
            "Epoch 34/200\n",
            "14/14 [==============================] - 0s 2ms/step - loss: 0.3893 - accuracy: 0.9238\n",
            "Epoch 35/200\n",
            "14/14 [==============================] - 0s 2ms/step - loss: 0.2709 - accuracy: 0.9389\n",
            "Epoch 36/200\n",
            "14/14 [==============================] - 0s 2ms/step - loss: 0.3875 - accuracy: 0.8520\n",
            "Epoch 37/200\n",
            "14/14 [==============================] - 0s 2ms/step - loss: 0.3033 - accuracy: 0.9084\n",
            "Epoch 38/200\n",
            "14/14 [==============================] - 0s 2ms/step - loss: 0.2001 - accuracy: 0.9183\n",
            "Epoch 39/200\n",
            "14/14 [==============================] - 0s 2ms/step - loss: 0.2078 - accuracy: 0.9774\n",
            "Epoch 40/200\n",
            "14/14 [==============================] - 0s 2ms/step - loss: 0.1702 - accuracy: 0.9497\n",
            "Epoch 41/200\n",
            "14/14 [==============================] - 0s 3ms/step - loss: 0.2040 - accuracy: 0.9128\n",
            "Epoch 42/200\n",
            "14/14 [==============================] - 0s 2ms/step - loss: 0.2431 - accuracy: 0.9402\n",
            "Epoch 43/200\n",
            "14/14 [==============================] - 0s 2ms/step - loss: 0.2953 - accuracy: 0.8641\n",
            "Epoch 44/200\n",
            "14/14 [==============================] - 0s 2ms/step - loss: 0.1494 - accuracy: 0.9653\n",
            "Epoch 45/200\n",
            "14/14 [==============================] - 0s 2ms/step - loss: 0.2479 - accuracy: 0.8985\n",
            "Epoch 46/200\n",
            "14/14 [==============================] - 0s 2ms/step - loss: 0.2095 - accuracy: 0.9422\n",
            "Epoch 47/200\n",
            "14/14 [==============================] - 0s 2ms/step - loss: 0.3369 - accuracy: 0.8781\n",
            "Epoch 48/200\n",
            "14/14 [==============================] - 0s 2ms/step - loss: 0.1859 - accuracy: 0.9402\n",
            "Epoch 49/200\n",
            "14/14 [==============================] - 0s 1ms/step - loss: 0.4461 - accuracy: 0.8462\n",
            "Epoch 50/200\n",
            "14/14 [==============================] - 0s 2ms/step - loss: 0.1797 - accuracy: 0.9580\n",
            "Epoch 51/200\n",
            "14/14 [==============================] - 0s 2ms/step - loss: 0.2101 - accuracy: 0.9728\n",
            "Epoch 52/200\n",
            "14/14 [==============================] - 0s 2ms/step - loss: 0.0914 - accuracy: 1.0000\n",
            "Epoch 53/200\n",
            "14/14 [==============================] - 0s 2ms/step - loss: 0.1837 - accuracy: 0.9621\n",
            "Epoch 54/200\n",
            "14/14 [==============================] - 0s 2ms/step - loss: 0.0975 - accuracy: 0.9970\n",
            "Epoch 55/200\n",
            "14/14 [==============================] - 0s 2ms/step - loss: 0.1483 - accuracy: 0.9552\n",
            "Epoch 56/200\n",
            "14/14 [==============================] - 0s 2ms/step - loss: 0.0855 - accuracy: 0.9918\n",
            "Epoch 57/200\n",
            "14/14 [==============================] - 0s 2ms/step - loss: 0.0675 - accuracy: 0.9756\n",
            "Epoch 58/200\n",
            "14/14 [==============================] - 0s 2ms/step - loss: 0.0747 - accuracy: 0.9959\n",
            "Epoch 59/200\n",
            "14/14 [==============================] - 0s 2ms/step - loss: 0.2083 - accuracy: 0.8631\n",
            "Epoch 60/200\n",
            "14/14 [==============================] - 0s 2ms/step - loss: 0.1822 - accuracy: 0.8940\n",
            "Epoch 61/200\n",
            "14/14 [==============================] - 0s 2ms/step - loss: 0.0941 - accuracy: 0.9754\n",
            "Epoch 62/200\n",
            "14/14 [==============================] - 0s 2ms/step - loss: 0.1678 - accuracy: 0.9933\n",
            "Epoch 63/200\n",
            "14/14 [==============================] - 0s 2ms/step - loss: 0.1285 - accuracy: 0.9689\n",
            "Epoch 64/200\n",
            "14/14 [==============================] - 0s 2ms/step - loss: 0.1084 - accuracy: 0.9929\n",
            "Epoch 65/200\n",
            "14/14 [==============================] - 0s 2ms/step - loss: 0.1582 - accuracy: 0.9523\n",
            "Epoch 66/200\n",
            "14/14 [==============================] - 0s 2ms/step - loss: 0.1976 - accuracy: 0.9034\n",
            "Epoch 67/200\n",
            "14/14 [==============================] - 0s 2ms/step - loss: 0.1225 - accuracy: 0.9473\n",
            "Epoch 68/200\n",
            "14/14 [==============================] - 0s 2ms/step - loss: 0.1199 - accuracy: 0.9927\n",
            "Epoch 69/200\n",
            "14/14 [==============================] - 0s 2ms/step - loss: 0.0990 - accuracy: 0.9947\n",
            "Epoch 70/200\n",
            "14/14 [==============================] - 0s 2ms/step - loss: 0.1785 - accuracy: 0.9591\n",
            "Epoch 71/200\n",
            "14/14 [==============================] - 0s 2ms/step - loss: 0.1014 - accuracy: 0.9779\n",
            "Epoch 72/200\n",
            "14/14 [==============================] - 0s 2ms/step - loss: 0.1327 - accuracy: 0.9726\n",
            "Epoch 73/200\n",
            "14/14 [==============================] - 0s 2ms/step - loss: 0.1357 - accuracy: 0.9630\n",
            "Epoch 74/200\n",
            "14/14 [==============================] - 0s 2ms/step - loss: 0.2474 - accuracy: 0.8823\n",
            "Epoch 75/200\n",
            "14/14 [==============================] - 0s 2ms/step - loss: 0.0859 - accuracy: 0.9715\n",
            "Epoch 76/200\n",
            "14/14 [==============================] - 0s 2ms/step - loss: 0.1429 - accuracy: 0.9514\n",
            "Epoch 77/200\n",
            "14/14 [==============================] - 0s 2ms/step - loss: 0.2079 - accuracy: 0.9491\n",
            "Epoch 78/200\n",
            "14/14 [==============================] - 0s 2ms/step - loss: 0.2133 - accuracy: 0.9384\n",
            "Epoch 79/200\n",
            "14/14 [==============================] - 0s 2ms/step - loss: 0.1522 - accuracy: 0.9497\n",
            "Epoch 80/200\n",
            "14/14 [==============================] - 0s 2ms/step - loss: 0.0499 - accuracy: 1.0000\n",
            "Epoch 81/200\n",
            "14/14 [==============================] - 0s 2ms/step - loss: 0.0394 - accuracy: 1.0000\n",
            "Epoch 82/200\n",
            "14/14 [==============================] - 0s 2ms/step - loss: 0.1040 - accuracy: 0.9537\n",
            "Epoch 83/200\n",
            "14/14 [==============================] - 0s 2ms/step - loss: 0.0712 - accuracy: 0.9883\n",
            "Epoch 84/200\n",
            "14/14 [==============================] - 0s 2ms/step - loss: 0.1512 - accuracy: 0.9563\n",
            "Epoch 85/200\n",
            "14/14 [==============================] - 0s 2ms/step - loss: 0.1310 - accuracy: 0.9756\n",
            "Epoch 86/200\n",
            "14/14 [==============================] - 0s 2ms/step - loss: 0.0659 - accuracy: 0.9861\n",
            "Epoch 87/200\n",
            "14/14 [==============================] - 0s 3ms/step - loss: 0.1117 - accuracy: 0.9715\n",
            "Epoch 88/200\n",
            "14/14 [==============================] - 0s 3ms/step - loss: 0.0647 - accuracy: 0.9793\n",
            "Epoch 89/200\n",
            "14/14 [==============================] - 0s 2ms/step - loss: 0.1115 - accuracy: 1.0000\n",
            "Epoch 90/200\n",
            "14/14 [==============================] - 0s 2ms/step - loss: 0.0929 - accuracy: 0.9711\n",
            "Epoch 91/200\n",
            "14/14 [==============================] - 0s 2ms/step - loss: 0.1183 - accuracy: 0.9325\n",
            "Epoch 92/200\n",
            "14/14 [==============================] - 0s 2ms/step - loss: 0.0284 - accuracy: 0.9933\n",
            "Epoch 93/200\n",
            "14/14 [==============================] - 0s 2ms/step - loss: 0.0762 - accuracy: 0.9933\n",
            "Epoch 94/200\n",
            "14/14 [==============================] - 0s 2ms/step - loss: 0.0599 - accuracy: 0.9959\n",
            "Epoch 95/200\n",
            "14/14 [==============================] - 0s 2ms/step - loss: 0.0602 - accuracy: 0.9848\n",
            "Epoch 96/200\n",
            "14/14 [==============================] - 0s 2ms/step - loss: 0.0578 - accuracy: 0.9947\n",
            "Epoch 97/200\n",
            "14/14 [==============================] - 0s 2ms/step - loss: 0.0644 - accuracy: 1.0000\n",
            "Epoch 98/200\n",
            "14/14 [==============================] - 0s 2ms/step - loss: 0.0557 - accuracy: 0.9604\n",
            "Epoch 99/200\n",
            "14/14 [==============================] - 0s 2ms/step - loss: 0.0916 - accuracy: 0.9801\n",
            "Epoch 100/200\n",
            "14/14 [==============================] - 0s 2ms/step - loss: 0.0735 - accuracy: 0.9883\n",
            "Epoch 101/200\n",
            "14/14 [==============================] - 0s 2ms/step - loss: 0.0491 - accuracy: 0.9801\n",
            "Epoch 102/200\n",
            "14/14 [==============================] - 0s 2ms/step - loss: 0.0850 - accuracy: 0.9752\n",
            "Epoch 103/200\n",
            "14/14 [==============================] - 0s 2ms/step - loss: 0.1273 - accuracy: 0.9780\n",
            "Epoch 104/200\n",
            "14/14 [==============================] - 0s 2ms/step - loss: 0.0331 - accuracy: 0.9841\n",
            "Epoch 105/200\n",
            "14/14 [==============================] - 0s 2ms/step - loss: 0.0696 - accuracy: 0.9834\n",
            "Epoch 106/200\n",
            "14/14 [==============================] - 0s 2ms/step - loss: 0.0522 - accuracy: 0.9883\n",
            "Epoch 107/200\n",
            "14/14 [==============================] - 0s 2ms/step - loss: 0.1227 - accuracy: 0.9477\n",
            "Epoch 108/200\n",
            "14/14 [==============================] - 0s 2ms/step - loss: 0.2132 - accuracy: 0.9048\n",
            "Epoch 109/200\n",
            "14/14 [==============================] - 0s 2ms/step - loss: 0.0548 - accuracy: 1.0000\n",
            "Epoch 110/200\n",
            "14/14 [==============================] - 0s 2ms/step - loss: 0.1035 - accuracy: 0.9689\n",
            "Epoch 111/200\n",
            "14/14 [==============================] - 0s 2ms/step - loss: 0.0345 - accuracy: 0.9902\n",
            "Epoch 112/200\n",
            "14/14 [==============================] - 0s 2ms/step - loss: 0.0812 - accuracy: 0.9689\n",
            "Epoch 113/200\n",
            "14/14 [==============================] - 0s 2ms/step - loss: 0.0284 - accuracy: 1.0000\n",
            "Epoch 114/200\n",
            "14/14 [==============================] - 0s 2ms/step - loss: 0.0502 - accuracy: 0.9819\n",
            "Epoch 115/200\n",
            "14/14 [==============================] - 0s 2ms/step - loss: 0.0392 - accuracy: 0.9801\n",
            "Epoch 116/200\n",
            "14/14 [==============================] - 0s 2ms/step - loss: 0.0652 - accuracy: 0.9861\n",
            "Epoch 117/200\n",
            "14/14 [==============================] - 0s 2ms/step - loss: 0.0918 - accuracy: 0.9475\n",
            "Epoch 118/200\n",
            "14/14 [==============================] - 0s 2ms/step - loss: 0.0600 - accuracy: 0.9883\n",
            "Epoch 119/200\n",
            "14/14 [==============================] - 0s 2ms/step - loss: 0.1289 - accuracy: 0.9883\n",
            "Epoch 120/200\n",
            "14/14 [==============================] - 0s 2ms/step - loss: 0.0608 - accuracy: 0.9959\n",
            "Epoch 121/200\n",
            "14/14 [==============================] - 0s 2ms/step - loss: 0.0832 - accuracy: 0.9722\n",
            "Epoch 122/200\n",
            "14/14 [==============================] - 0s 2ms/step - loss: 0.0783 - accuracy: 0.9719\n",
            "Epoch 123/200\n",
            "14/14 [==============================] - 0s 2ms/step - loss: 0.0363 - accuracy: 1.0000\n",
            "Epoch 124/200\n",
            "14/14 [==============================] - 0s 2ms/step - loss: 0.0711 - accuracy: 0.9865\n",
            "Epoch 125/200\n",
            "14/14 [==============================] - 0s 2ms/step - loss: 0.0684 - accuracy: 0.9918\n",
            "Epoch 126/200\n",
            "14/14 [==============================] - 0s 2ms/step - loss: 0.0537 - accuracy: 0.9947\n",
            "Epoch 127/200\n",
            "14/14 [==============================] - 0s 2ms/step - loss: 0.0829 - accuracy: 0.9779\n",
            "Epoch 128/200\n",
            "14/14 [==============================] - 0s 2ms/step - loss: 0.0851 - accuracy: 0.9557\n",
            "Epoch 129/200\n",
            "14/14 [==============================] - 0s 2ms/step - loss: 0.0405 - accuracy: 0.9927\n",
            "Epoch 130/200\n",
            "14/14 [==============================] - 0s 2ms/step - loss: 0.1433 - accuracy: 0.9794\n",
            "Epoch 131/200\n",
            "14/14 [==============================] - 0s 2ms/step - loss: 0.0539 - accuracy: 0.9756\n",
            "Epoch 132/200\n",
            "14/14 [==============================] - 0s 2ms/step - loss: 0.0690 - accuracy: 0.9883\n",
            "Epoch 133/200\n",
            "14/14 [==============================] - 0s 2ms/step - loss: 0.0370 - accuracy: 1.0000\n",
            "Epoch 134/200\n",
            "14/14 [==============================] - 0s 2ms/step - loss: 0.0333 - accuracy: 0.9861\n",
            "Epoch 135/200\n",
            "14/14 [==============================] - 0s 2ms/step - loss: 0.0376 - accuracy: 0.9902\n",
            "Epoch 136/200\n",
            "14/14 [==============================] - 0s 2ms/step - loss: 0.0521 - accuracy: 0.9970\n",
            "Epoch 137/200\n",
            "14/14 [==============================] - 0s 2ms/step - loss: 0.0247 - accuracy: 0.9918\n",
            "Epoch 138/200\n",
            "14/14 [==============================] - 0s 2ms/step - loss: 0.0758 - accuracy: 1.0000\n",
            "Epoch 139/200\n",
            "14/14 [==============================] - 0s 2ms/step - loss: 0.0502 - accuracy: 0.9734\n",
            "Epoch 140/200\n",
            "14/14 [==============================] - 0s 2ms/step - loss: 0.0535 - accuracy: 0.9861\n",
            "Epoch 141/200\n",
            "14/14 [==============================] - 0s 2ms/step - loss: 0.0228 - accuracy: 1.0000\n",
            "Epoch 142/200\n",
            "14/14 [==============================] - 0s 2ms/step - loss: 0.0311 - accuracy: 1.0000\n",
            "Epoch 143/200\n",
            "14/14 [==============================] - 0s 2ms/step - loss: 0.0136 - accuracy: 1.0000\n",
            "Epoch 144/200\n",
            "14/14 [==============================] - 0s 2ms/step - loss: 0.0377 - accuracy: 0.9736\n",
            "Epoch 145/200\n",
            "14/14 [==============================] - 0s 2ms/step - loss: 0.0527 - accuracy: 0.9970\n",
            "Epoch 146/200\n",
            "14/14 [==============================] - 0s 2ms/step - loss: 0.0369 - accuracy: 1.0000\n",
            "Epoch 147/200\n",
            "14/14 [==============================] - 0s 2ms/step - loss: 0.0160 - accuracy: 0.9970\n",
            "Epoch 148/200\n",
            "14/14 [==============================] - 0s 2ms/step - loss: 0.0441 - accuracy: 0.9863\n",
            "Epoch 149/200\n",
            "14/14 [==============================] - 0s 2ms/step - loss: 0.0368 - accuracy: 0.9959\n",
            "Epoch 150/200\n",
            "14/14 [==============================] - 0s 2ms/step - loss: 0.0652 - accuracy: 0.9560\n",
            "Epoch 151/200\n",
            "14/14 [==============================] - 0s 2ms/step - loss: 0.0151 - accuracy: 1.0000\n",
            "Epoch 152/200\n",
            "14/14 [==============================] - 0s 2ms/step - loss: 0.0461 - accuracy: 0.9929\n",
            "Epoch 153/200\n",
            "14/14 [==============================] - 0s 2ms/step - loss: 0.0159 - accuracy: 1.0000\n",
            "Epoch 154/200\n",
            "14/14 [==============================] - 0s 2ms/step - loss: 0.0507 - accuracy: 0.9883\n",
            "Epoch 155/200\n",
            "14/14 [==============================] - 0s 2ms/step - loss: 0.0494 - accuracy: 0.9774\n",
            "Epoch 156/200\n",
            "14/14 [==============================] - 0s 2ms/step - loss: 0.0242 - accuracy: 1.0000\n",
            "Epoch 157/200\n",
            "14/14 [==============================] - 0s 2ms/step - loss: 0.0248 - accuracy: 0.9918\n",
            "Epoch 158/200\n",
            "14/14 [==============================] - 0s 2ms/step - loss: 0.0293 - accuracy: 0.9918\n",
            "Epoch 159/200\n",
            "14/14 [==============================] - 0s 2ms/step - loss: 0.0682 - accuracy: 0.9801\n",
            "Epoch 160/200\n",
            "14/14 [==============================] - 0s 2ms/step - loss: 0.0175 - accuracy: 1.0000\n",
            "Epoch 161/200\n",
            "14/14 [==============================] - 0s 2ms/step - loss: 0.0628 - accuracy: 0.9756\n",
            "Epoch 162/200\n",
            "14/14 [==============================] - 0s 2ms/step - loss: 0.0250 - accuracy: 1.0000\n",
            "Epoch 163/200\n",
            "14/14 [==============================] - 0s 2ms/step - loss: 0.0540 - accuracy: 0.9861\n",
            "Epoch 164/200\n",
            "14/14 [==============================] - 0s 2ms/step - loss: 0.0193 - accuracy: 1.0000\n",
            "Epoch 165/200\n",
            "14/14 [==============================] - 0s 2ms/step - loss: 0.0565 - accuracy: 0.9801\n",
            "Epoch 166/200\n",
            "14/14 [==============================] - 0s 2ms/step - loss: 0.0257 - accuracy: 1.0000\n",
            "Epoch 167/200\n",
            "14/14 [==============================] - 0s 2ms/step - loss: 0.0536 - accuracy: 1.0000\n",
            "Epoch 168/200\n",
            "14/14 [==============================] - 0s 2ms/step - loss: 0.0455 - accuracy: 0.9834\n",
            "Epoch 169/200\n",
            "14/14 [==============================] - 0s 2ms/step - loss: 0.0743 - accuracy: 0.9765\n",
            "Epoch 170/200\n",
            "14/14 [==============================] - 0s 3ms/step - loss: 0.0114 - accuracy: 1.0000\n",
            "Epoch 171/200\n",
            "14/14 [==============================] - 0s 2ms/step - loss: 0.0379 - accuracy: 0.9883\n",
            "Epoch 172/200\n",
            "14/14 [==============================] - 0s 2ms/step - loss: 0.0714 - accuracy: 0.9523\n",
            "Epoch 173/200\n",
            "14/14 [==============================] - 0s 2ms/step - loss: 0.0245 - accuracy: 1.0000\n",
            "Epoch 174/200\n",
            "14/14 [==============================] - 0s 2ms/step - loss: 0.0369 - accuracy: 0.9883\n",
            "Epoch 175/200\n",
            "14/14 [==============================] - 0s 2ms/step - loss: 0.0158 - accuracy: 1.0000\n",
            "Epoch 176/200\n",
            "14/14 [==============================] - 0s 3ms/step - loss: 0.0400 - accuracy: 0.9880\n",
            "Epoch 177/200\n",
            "14/14 [==============================] - 0s 2ms/step - loss: 0.0404 - accuracy: 0.9929\n",
            "Epoch 178/200\n",
            "14/14 [==============================] - 0s 2ms/step - loss: 0.0520 - accuracy: 0.9518\n",
            "Epoch 179/200\n",
            "14/14 [==============================] - 0s 2ms/step - loss: 0.0291 - accuracy: 0.9853\n",
            "Epoch 180/200\n",
            "14/14 [==============================] - 0s 2ms/step - loss: 0.0245 - accuracy: 1.0000\n",
            "Epoch 181/200\n",
            "14/14 [==============================] - 0s 2ms/step - loss: 0.0609 - accuracy: 0.9689\n",
            "Epoch 182/200\n",
            "14/14 [==============================] - 0s 2ms/step - loss: 0.0280 - accuracy: 0.9933\n",
            "Epoch 183/200\n",
            "14/14 [==============================] - 0s 2ms/step - loss: 0.0260 - accuracy: 0.9834\n",
            "Epoch 184/200\n",
            "14/14 [==============================] - 0s 2ms/step - loss: 0.0113 - accuracy: 1.0000\n",
            "Epoch 185/200\n",
            "14/14 [==============================] - 0s 3ms/step - loss: 0.1142 - accuracy: 0.9556\n",
            "Epoch 186/200\n",
            "14/14 [==============================] - 0s 2ms/step - loss: 0.0230 - accuracy: 0.9933\n",
            "Epoch 187/200\n",
            "14/14 [==============================] - 0s 2ms/step - loss: 0.1080 - accuracy: 0.9512\n",
            "Epoch 188/200\n",
            "14/14 [==============================] - 0s 2ms/step - loss: 0.0647 - accuracy: 0.9883\n",
            "Epoch 189/200\n",
            "14/14 [==============================] - 0s 2ms/step - loss: 0.0269 - accuracy: 1.0000\n",
            "Epoch 190/200\n",
            "14/14 [==============================] - 0s 2ms/step - loss: 0.0322 - accuracy: 1.0000\n",
            "Epoch 191/200\n",
            "14/14 [==============================] - 0s 2ms/step - loss: 0.0116 - accuracy: 1.0000\n",
            "Epoch 192/200\n",
            "14/14 [==============================] - 0s 3ms/step - loss: 0.0052 - accuracy: 1.0000\n",
            "Epoch 193/200\n",
            "14/14 [==============================] - 0s 2ms/step - loss: 0.0590 - accuracy: 1.0000\n",
            "Epoch 194/200\n",
            "14/14 [==============================] - 0s 2ms/step - loss: 0.0539 - accuracy: 0.9743\n",
            "Epoch 195/200\n",
            "14/14 [==============================] - 0s 2ms/step - loss: 0.0090 - accuracy: 1.0000\n",
            "Epoch 196/200\n",
            "14/14 [==============================] - 0s 2ms/step - loss: 0.0074 - accuracy: 1.0000\n",
            "Epoch 197/200\n",
            "14/14 [==============================] - 0s 2ms/step - loss: 0.0071 - accuracy: 1.0000\n",
            "Epoch 198/200\n",
            "14/14 [==============================] - 0s 2ms/step - loss: 0.0582 - accuracy: 0.9801\n",
            "Epoch 199/200\n",
            "14/14 [==============================] - 0s 2ms/step - loss: 0.0191 - accuracy: 1.0000\n",
            "Epoch 200/200\n",
            "14/14 [==============================] - 0s 2ms/step - loss: 0.0274 - accuracy: 0.9947\n",
            "model created\n"
          ],
          "name": "stdout"
        }
      ]
    },
    {
      "cell_type": "code",
      "metadata": {
        "id": "AdR666n0rrcS"
      },
      "source": [
        "\n",
        "from keras.models import load_model\n",
        "model = load_model('chatbot_model.h5')\n",
        "\n",
        "intents = json.loads(open('intents.json').read())\n",
        "words = pickle.load(open('words.pkl','rb'))\n",
        "classes = pickle.load(open('classes.pkl','rb'))"
      ],
      "execution_count": 25,
      "outputs": []
    },
    {
      "cell_type": "code",
      "metadata": {
        "id": "IBTSXRpM9UT0"
      },
      "source": [
        "def clean_up_sentence(sentence):\n",
        "    # tokenize the pattern - split words into array\n",
        "    sentence_words = nltk.word_tokenize(sentence)\n",
        "    # stem each word - create short form for word\n",
        "    sentence_words = [lemmatizer.lemmatize(word.lower()) for word in sentence_words]\n",
        "    return sentence_words\n",
        "# return bag of words array: 0 or 1 for each word in the bag that exists in the sentence\n",
        "def bow(sentence, words, show_details=True):\n",
        "    # tokenize the pattern\n",
        "    sentence_words = clean_up_sentence(sentence)\n",
        "    # bag of words - matrix of N words, vocabulary matrix\n",
        "    bag = [0]*len(words) \n",
        "    for s in sentence_words:\n",
        "        for i,w in enumerate(words):\n",
        "            if w == s: \n",
        "                # assign 1 if current word is in the vocabulary position\n",
        "                bag[i] = 1\n",
        "                if show_details:\n",
        "                    print (\"found in bag: %s\" % w)\n",
        "    return(np.array(bag))\n",
        "def predict_class(sentence, model):\n",
        "    # filter out predictions below a threshold\n",
        "    p = bow(sentence, words,show_details=False)\n",
        "    res = model.predict(np.array([p]))[0]\n",
        "    ERROR_THRESHOLD = 0.25\n",
        "    results = [[i,r] for i,r in enumerate(res) if r>ERROR_THRESHOLD]\n",
        "    # sort by strength of probability\n",
        "    results.sort(key=lambda x: x[1], reverse=True)\n",
        "    return_list = []\n",
        "    for r in results:\n",
        "        return_list.append({\"intent\": classes[r[0]], \"probability\": str(r[1])})\n",
        "    return return_list"
      ],
      "execution_count": 26,
      "outputs": []
    },
    {
      "cell_type": "code",
      "metadata": {
        "id": "vQiK7_rrBshC"
      },
      "source": [
        "def getResponse(ints, intents_json):\n",
        "  tag = ints[0]['intent']\n",
        "  \n",
        "  list_of_intents = intents_json['intents']\n",
        "  for i in list_of_intents:\n",
        "    if(i['tag']== tag):\n",
        "      result = random.choice(i['responses'])\n",
        "      break\n",
        "        \n",
        "  return result\n",
        "def chatbot_response(text):\n",
        "    ints = predict_class(text, model)\n",
        "    res = getResponse(ints, intents)\n",
        "    return res"
      ],
      "execution_count": 27,
      "outputs": []
    },
    {
      "cell_type": "code",
      "metadata": {
        "id": "7iOjnpKJuzTZ"
      },
      "source": [
        ""
      ],
      "execution_count": 27,
      "outputs": []
    },
    {
      "cell_type": "code",
      "metadata": {
        "id": "BnwuJ-4XDLhR"
      },
      "source": [
        ""
      ],
      "execution_count": 27,
      "outputs": []
    },
    {
      "cell_type": "code",
      "metadata": {
        "id": "-E3BPlMFFs0r"
      },
      "source": [
        ""
      ],
      "execution_count": 27,
      "outputs": []
    },
    {
      "cell_type": "code",
      "metadata": {
        "id": "nYS4EJbnxPQG"
      },
      "source": [
        "def bot_response(user_input):\n",
        "  user_input = user_input.lower()\n",
        "  user_input1= user_input.split(\" \")\n",
        "  for word in user_input1:\n",
        "    if word in article_list:\n",
        "      \n",
        "      sentence_list.append(word)\n",
        "      bot_response = ''\n",
        "      cm = CountVectorizer().fit_transform(sentence_list)\n",
        "      similarity_scores = cosine_similarity(cm[-1],cm)\n",
        "      similarity_scores_list = similarity_scores.flatten()\n",
        "      index = index_sort(similarity_scores_list)\n",
        "      index = index[1:]\n",
        "      response_flag = 0\n",
        "      j = 0\n",
        "      for i in range(len(index)):\n",
        "        if similarity_scores_list[index[i]] > 0.0:\n",
        "          colour = '\\33[34m'\n",
        "          bot_response = (fontstyle.apply('\\33[34m' \"Agri bot: \"  + sentence_list[index[i]],'bold/Italic'))\n",
        "          response_flag = 1\n",
        "          j = j+1\n",
        "          if j >2:\n",
        "            break\n",
        "      if response_flag == 0:\n",
        "        color = '\\33[32m'\n",
        "        bot_response = (fontstyle.apply('\\33[32m' \"Agri bot: \" + idk_response(user_input),'bold/Italic'))\n",
        "        sentence_list.remove(user_input)\n",
        "\n",
        "      return bot_response"
      ],
      "execution_count": 28,
      "outputs": []
    },
    {
      "cell_type": "code",
      "metadata": {
        "id": "YazYV26JY2DR",
        "colab": {
          "base_uri": "https://localhost:8080/"
        },
        "outputId": "669f762b-375f-473d-9339-68873921407d"
      },
      "source": [
        "#start chat\n",
        "Red_Font = '\\33[31m'\n",
        "print(Red_Font + fontstyle.apply(\"\\033[3mAgri Bot: I am Agri bot. I will answer your queries. If u want to exit please type: bye\",'bold/Italic'))\n",
        "\n",
        "\n",
        "while(True):\n",
        "  user_input = input()\n",
        "  if goodbye_response(user_input) != None  :\n",
        "    print(fontstyle.apply('\\33[33m' \"Agri bot: \"+goodbye_response(user_input),'bold/Italic'))\n",
        "    break\n",
        "  else:\n",
        "    \n",
        "      if bot_response(user_input) != None:\n",
        "        print(fontstyle.apply( bot_response(user_input),'bold/Italic'))\n",
        "    \n",
        "  \n",
        "      else:\n",
        "        print(fontstyle.apply( chatbot_response(user_input),'bold/Italic'))\n",
        "display.Image(\"logo.jpg\",width=300,height=300)\n",
        "\n"
      ],
      "execution_count": null,
      "outputs": [
        {
          "output_type": "stream",
          "text": [
            "\u001b[31m\u001b[1m\u001b[3m\u001b[3mAgri Bot: I am Agri bot. I will answer your queries. If u want to exit please type: bye\u001b[0m\n"
          ],
          "name": "stdout"
        }
      ]
    },
    {
      "cell_type": "code",
      "metadata": {
        "id": "yR7W21UA5MZM"
      },
      "source": [
        "from google.colab import drive\n",
        "drive.mount('/content/drive')"
      ],
      "execution_count": null,
      "outputs": []
    }
  ]
}